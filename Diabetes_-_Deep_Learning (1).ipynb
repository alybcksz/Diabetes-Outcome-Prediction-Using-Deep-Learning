{
 "cells": [
  {
   "cell_type": "code",
   "execution_count": 1,
   "id": "4469515e",
   "metadata": {},
   "outputs": [],
   "source": [
    "#pip install --upgrade pip"
   ]
  },
  {
   "cell_type": "code",
   "execution_count": 2,
   "id": "9e40b8b8",
   "metadata": {},
   "outputs": [],
   "source": [
    "#pip install tensorflow"
   ]
  },
  {
   "cell_type": "code",
   "execution_count": 3,
   "id": "10aeee32",
   "metadata": {},
   "outputs": [],
   "source": [
    "#pip install tf-nightly"
   ]
  },
  {
   "cell_type": "code",
   "execution_count": 4,
   "id": "b168c233",
   "metadata": {},
   "outputs": [],
   "source": [
    "#conda install -c anaconda keras"
   ]
  },
  {
   "cell_type": "code",
   "execution_count": 5,
   "id": "51b747d1",
   "metadata": {
    "collapsed": true
   },
   "outputs": [
    {
     "name": "stdout",
     "output_type": "stream",
     "text": [
      "Requirement already satisfied: tensorflow in c:\\users\\18040\\anaconda3\\lib\\site-packages (2.9.1)\n",
      "Requirement already satisfied: h5py>=2.9.0 in c:\\users\\18040\\anaconda3\\lib\\site-packages (from tensorflow) (3.6.0)\n",
      "Requirement already satisfied: setuptools in c:\\users\\18040\\anaconda3\\lib\\site-packages (from tensorflow) (59.8.0)\n",
      "Requirement already satisfied: tensorboard<2.10,>=2.9 in c:\\users\\18040\\anaconda3\\lib\\site-packages (from tensorflow) (2.9.1)\n",
      "Requirement already satisfied: packaging in c:\\users\\18040\\anaconda3\\lib\\site-packages (from tensorflow) (21.3)\n",
      "Requirement already satisfied: tensorflow-io-gcs-filesystem>=0.23.1 in c:\\users\\18040\\anaconda3\\lib\\site-packages (from tensorflow) (0.26.0)\n",
      "Requirement already satisfied: gast<=0.4.0,>=0.2.1 in c:\\users\\18040\\anaconda3\\lib\\site-packages (from tensorflow) (0.4.0)\n",
      "Requirement already satisfied: numpy>=1.20 in c:\\users\\18040\\anaconda3\\lib\\site-packages (from tensorflow) (1.21.5)\n",
      "Requirement already satisfied: six>=1.12.0 in c:\\users\\18040\\anaconda3\\lib\\site-packages (from tensorflow) (1.16.0)\n",
      "Requirement already satisfied: tensorflow-estimator<2.10.0,>=2.9.0rc0 in c:\\users\\18040\\anaconda3\\lib\\site-packages (from tensorflow) (2.9.0)\n",
      "Requirement already satisfied: protobuf<3.20,>=3.9.2 in c:\\users\\18040\\anaconda3\\lib\\site-packages (from tensorflow) (3.19.1)\n",
      "Collecting flatbuffers<2,>=1.12\n",
      "  Using cached flatbuffers-1.12-py2.py3-none-any.whl (15 kB)"
     ]
    },
    {
     "name": "stderr",
     "output_type": "stream",
     "text": [
      "ERROR: pip's dependency resolver does not currently take into account all the packages that are installed. This behaviour is the source of the following dependency conflicts.\n",
      "tf-nightly 2.11.0.dev20220812 requires flatbuffers>=2.0, but you have flatbuffers 1.12 which is incompatible.\n"
     ]
    },
    {
     "name": "stdout",
     "output_type": "stream",
     "text": [
      "\n",
      "Requirement already satisfied: keras-preprocessing>=1.1.1 in c:\\users\\18040\\anaconda3\\lib\\site-packages (from tensorflow) (1.1.2)\n",
      "Requirement already satisfied: google-pasta>=0.1.1 in c:\\users\\18040\\anaconda3\\lib\\site-packages (from tensorflow) (0.2.0)\n",
      "Requirement already satisfied: astunparse>=1.6.0 in c:\\users\\18040\\anaconda3\\lib\\site-packages (from tensorflow) (1.6.3)\n",
      "Requirement already satisfied: opt-einsum>=2.3.2 in c:\\users\\18040\\anaconda3\\lib\\site-packages (from tensorflow) (3.3.0)\n",
      "Requirement already satisfied: termcolor>=1.1.0 in c:\\users\\18040\\anaconda3\\lib\\site-packages (from tensorflow) (1.1.0)\n",
      "Requirement already satisfied: absl-py>=1.0.0 in c:\\users\\18040\\anaconda3\\lib\\site-packages (from tensorflow) (1.2.0)\n",
      "Requirement already satisfied: wrapt>=1.11.0 in c:\\users\\18040\\anaconda3\\lib\\site-packages (from tensorflow) (1.12.1)\n",
      "Requirement already satisfied: typing-extensions>=3.6.6 in c:\\users\\18040\\anaconda3\\lib\\site-packages (from tensorflow) (4.1.1)\n",
      "Requirement already satisfied: libclang>=13.0.0 in c:\\users\\18040\\anaconda3\\lib\\site-packages (from tensorflow) (14.0.6)\n",
      "Requirement already satisfied: grpcio<2.0,>=1.24.3 in c:\\users\\18040\\anaconda3\\lib\\site-packages (from tensorflow) (1.42.0)\n",
      "Requirement already satisfied: keras<2.10.0,>=2.9.0rc0 in c:\\users\\18040\\anaconda3\\lib\\site-packages (from tensorflow) (2.9.0)\n",
      "Requirement already satisfied: wheel<1.0,>=0.23.0 in c:\\users\\18040\\anaconda3\\lib\\site-packages (from astunparse>=1.6.0->tensorflow) (0.37.1)\n",
      "Requirement already satisfied: tensorboard-data-server<0.7.0,>=0.6.0 in c:\\users\\18040\\anaconda3\\lib\\site-packages (from tensorboard<2.10,>=2.9->tensorflow) (0.6.1)\n",
      "Requirement already satisfied: werkzeug>=1.0.1 in c:\\users\\18040\\anaconda3\\lib\\site-packages (from tensorboard<2.10,>=2.9->tensorflow) (2.0.3)\n",
      "Requirement already satisfied: markdown>=2.6.8 in c:\\users\\18040\\anaconda3\\lib\\site-packages (from tensorboard<2.10,>=2.9->tensorflow) (3.3.4)\n",
      "Requirement already satisfied: requests<3,>=2.21.0 in c:\\users\\18040\\anaconda3\\lib\\site-packages (from tensorboard<2.10,>=2.9->tensorflow) (2.27.1)\n",
      "Requirement already satisfied: google-auth-oauthlib<0.5,>=0.4.1 in c:\\users\\18040\\anaconda3\\lib\\site-packages (from tensorboard<2.10,>=2.9->tensorflow) (0.4.6)\n",
      "Requirement already satisfied: google-auth<3,>=1.6.3 in c:\\users\\18040\\anaconda3\\lib\\site-packages (from tensorboard<2.10,>=2.9->tensorflow) (1.33.0)\n",
      "Requirement already satisfied: tensorboard-plugin-wit>=1.6.0 in c:\\users\\18040\\anaconda3\\lib\\site-packages (from tensorboard<2.10,>=2.9->tensorflow) (1.8.1)\n",
      "Requirement already satisfied: pyparsing!=3.0.5,>=2.0.2 in c:\\users\\18040\\anaconda3\\lib\\site-packages (from packaging->tensorflow) (3.0.4)\n",
      "Requirement already satisfied: cachetools<5.0,>=2.0.0 in c:\\users\\18040\\anaconda3\\lib\\site-packages (from google-auth<3,>=1.6.3->tensorboard<2.10,>=2.9->tensorflow) (4.2.2)\n",
      "Requirement already satisfied: pyasn1-modules>=0.2.1 in c:\\users\\18040\\anaconda3\\lib\\site-packages (from google-auth<3,>=1.6.3->tensorboard<2.10,>=2.9->tensorflow) (0.2.8)\n",
      "Requirement already satisfied: rsa<5,>=3.1.4 in c:\\users\\18040\\anaconda3\\lib\\site-packages (from google-auth<3,>=1.6.3->tensorboard<2.10,>=2.9->tensorflow) (4.7.2)\n",
      "Requirement already satisfied: requests-oauthlib>=0.7.0 in c:\\users\\18040\\anaconda3\\lib\\site-packages (from google-auth-oauthlib<0.5,>=0.4.1->tensorboard<2.10,>=2.9->tensorflow) (1.3.1)\n",
      "Requirement already satisfied: urllib3<1.27,>=1.21.1 in c:\\users\\18040\\anaconda3\\lib\\site-packages (from requests<3,>=2.21.0->tensorboard<2.10,>=2.9->tensorflow) (1.26.9)\n",
      "Requirement already satisfied: charset-normalizer~=2.0.0 in c:\\users\\18040\\anaconda3\\lib\\site-packages (from requests<3,>=2.21.0->tensorboard<2.10,>=2.9->tensorflow) (2.0.4)\n",
      "Requirement already satisfied: certifi>=2017.4.17 in c:\\users\\18040\\anaconda3\\lib\\site-packages (from requests<3,>=2.21.0->tensorboard<2.10,>=2.9->tensorflow) (2021.10.8)\n",
      "Requirement already satisfied: idna<4,>=2.5 in c:\\users\\18040\\anaconda3\\lib\\site-packages (from requests<3,>=2.21.0->tensorboard<2.10,>=2.9->tensorflow) (3.3)\n",
      "Requirement already satisfied: pyasn1<0.5.0,>=0.4.6 in c:\\users\\18040\\anaconda3\\lib\\site-packages (from pyasn1-modules>=0.2.1->google-auth<3,>=1.6.3->tensorboard<2.10,>=2.9->tensorflow) (0.4.8)\n",
      "Requirement already satisfied: oauthlib>=3.0.0 in c:\\users\\18040\\anaconda3\\lib\\site-packages (from requests-oauthlib>=0.7.0->google-auth-oauthlib<0.5,>=0.4.1->tensorboard<2.10,>=2.9->tensorflow) (3.2.0)\n",
      "Installing collected packages: flatbuffers\n",
      "Successfully installed flatbuffers-1.12\n"
     ]
    }
   ],
   "source": [
    "!pip install --user tensorflow"
   ]
  },
  {
   "cell_type": "code",
   "execution_count": 6,
   "id": "c78122e6",
   "metadata": {
    "collapsed": true
   },
   "outputs": [
    {
     "name": "stdout",
     "output_type": "stream",
     "text": [
      "Requirement already satisfied: keras in c:\\users\\18040\\anaconda3\\lib\\site-packages (2.9.0)\n"
     ]
    }
   ],
   "source": [
    "!pip install --user keras"
   ]
  },
  {
   "cell_type": "code",
   "execution_count": 7,
   "id": "0a448ecd",
   "metadata": {
    "collapsed": true
   },
   "outputs": [
    {
     "name": "stdout",
     "output_type": "stream",
     "text": [
      "Segmentation Models: using `keras` framework.\n"
     ]
    }
   ],
   "source": [
    "from tensorflow import keras\n",
    "import segmentation_models as sm"
   ]
  },
  {
   "cell_type": "code",
   "execution_count": 8,
   "id": "67d00887",
   "metadata": {},
   "outputs": [],
   "source": [
    "import pandas as pd \n",
    "from tensorflow.keras.models import Sequential\n",
    "from tensorflow.keras.layers import Dense"
   ]
  },
  {
   "cell_type": "code",
   "execution_count": 9,
   "id": "ea1a615d",
   "metadata": {},
   "outputs": [],
   "source": [
    "df=pd.read_csv(\"diabetes.csv\")"
   ]
  },
  {
   "cell_type": "code",
   "execution_count": 10,
   "id": "bedec565",
   "metadata": {
    "collapsed": true
   },
   "outputs": [
    {
     "data": {
      "text/html": [
       "<div>\n",
       "<style scoped>\n",
       "    .dataframe tbody tr th:only-of-type {\n",
       "        vertical-align: middle;\n",
       "    }\n",
       "\n",
       "    .dataframe tbody tr th {\n",
       "        vertical-align: top;\n",
       "    }\n",
       "\n",
       "    .dataframe thead th {\n",
       "        text-align: right;\n",
       "    }\n",
       "</style>\n",
       "<table border=\"1\" class=\"dataframe\">\n",
       "  <thead>\n",
       "    <tr style=\"text-align: right;\">\n",
       "      <th></th>\n",
       "      <th>Pregnancies</th>\n",
       "      <th>Glucose</th>\n",
       "      <th>BloodPressure</th>\n",
       "      <th>SkinThickness</th>\n",
       "      <th>Insulin</th>\n",
       "      <th>BMI</th>\n",
       "      <th>DiabetesPedigreeFunction</th>\n",
       "      <th>Age</th>\n",
       "      <th>Outcome</th>\n",
       "    </tr>\n",
       "  </thead>\n",
       "  <tbody>\n",
       "    <tr>\n",
       "      <th>0</th>\n",
       "      <td>2</td>\n",
       "      <td>138</td>\n",
       "      <td>62</td>\n",
       "      <td>35</td>\n",
       "      <td>0</td>\n",
       "      <td>33.6</td>\n",
       "      <td>0.127</td>\n",
       "      <td>47</td>\n",
       "      <td>1</td>\n",
       "    </tr>\n",
       "    <tr>\n",
       "      <th>1</th>\n",
       "      <td>0</td>\n",
       "      <td>84</td>\n",
       "      <td>82</td>\n",
       "      <td>31</td>\n",
       "      <td>125</td>\n",
       "      <td>38.2</td>\n",
       "      <td>0.233</td>\n",
       "      <td>23</td>\n",
       "      <td>0</td>\n",
       "    </tr>\n",
       "    <tr>\n",
       "      <th>2</th>\n",
       "      <td>0</td>\n",
       "      <td>145</td>\n",
       "      <td>0</td>\n",
       "      <td>0</td>\n",
       "      <td>0</td>\n",
       "      <td>44.2</td>\n",
       "      <td>0.630</td>\n",
       "      <td>31</td>\n",
       "      <td>1</td>\n",
       "    </tr>\n",
       "    <tr>\n",
       "      <th>3</th>\n",
       "      <td>0</td>\n",
       "      <td>135</td>\n",
       "      <td>68</td>\n",
       "      <td>42</td>\n",
       "      <td>250</td>\n",
       "      <td>42.3</td>\n",
       "      <td>0.365</td>\n",
       "      <td>24</td>\n",
       "      <td>1</td>\n",
       "    </tr>\n",
       "    <tr>\n",
       "      <th>4</th>\n",
       "      <td>1</td>\n",
       "      <td>139</td>\n",
       "      <td>62</td>\n",
       "      <td>41</td>\n",
       "      <td>480</td>\n",
       "      <td>40.7</td>\n",
       "      <td>0.536</td>\n",
       "      <td>21</td>\n",
       "      <td>0</td>\n",
       "    </tr>\n",
       "    <tr>\n",
       "      <th>...</th>\n",
       "      <td>...</td>\n",
       "      <td>...</td>\n",
       "      <td>...</td>\n",
       "      <td>...</td>\n",
       "      <td>...</td>\n",
       "      <td>...</td>\n",
       "      <td>...</td>\n",
       "      <td>...</td>\n",
       "      <td>...</td>\n",
       "    </tr>\n",
       "    <tr>\n",
       "      <th>1995</th>\n",
       "      <td>2</td>\n",
       "      <td>75</td>\n",
       "      <td>64</td>\n",
       "      <td>24</td>\n",
       "      <td>55</td>\n",
       "      <td>29.7</td>\n",
       "      <td>0.370</td>\n",
       "      <td>33</td>\n",
       "      <td>0</td>\n",
       "    </tr>\n",
       "    <tr>\n",
       "      <th>1996</th>\n",
       "      <td>8</td>\n",
       "      <td>179</td>\n",
       "      <td>72</td>\n",
       "      <td>42</td>\n",
       "      <td>130</td>\n",
       "      <td>32.7</td>\n",
       "      <td>0.719</td>\n",
       "      <td>36</td>\n",
       "      <td>1</td>\n",
       "    </tr>\n",
       "    <tr>\n",
       "      <th>1997</th>\n",
       "      <td>6</td>\n",
       "      <td>85</td>\n",
       "      <td>78</td>\n",
       "      <td>0</td>\n",
       "      <td>0</td>\n",
       "      <td>31.2</td>\n",
       "      <td>0.382</td>\n",
       "      <td>42</td>\n",
       "      <td>0</td>\n",
       "    </tr>\n",
       "    <tr>\n",
       "      <th>1998</th>\n",
       "      <td>0</td>\n",
       "      <td>129</td>\n",
       "      <td>110</td>\n",
       "      <td>46</td>\n",
       "      <td>130</td>\n",
       "      <td>67.1</td>\n",
       "      <td>0.319</td>\n",
       "      <td>26</td>\n",
       "      <td>1</td>\n",
       "    </tr>\n",
       "    <tr>\n",
       "      <th>1999</th>\n",
       "      <td>2</td>\n",
       "      <td>81</td>\n",
       "      <td>72</td>\n",
       "      <td>15</td>\n",
       "      <td>76</td>\n",
       "      <td>30.1</td>\n",
       "      <td>0.547</td>\n",
       "      <td>25</td>\n",
       "      <td>0</td>\n",
       "    </tr>\n",
       "  </tbody>\n",
       "</table>\n",
       "<p>2000 rows × 9 columns</p>\n",
       "</div>"
      ],
      "text/plain": [
       "      Pregnancies  Glucose  BloodPressure  SkinThickness  Insulin   BMI  \\\n",
       "0               2      138             62             35        0  33.6   \n",
       "1               0       84             82             31      125  38.2   \n",
       "2               0      145              0              0        0  44.2   \n",
       "3               0      135             68             42      250  42.3   \n",
       "4               1      139             62             41      480  40.7   \n",
       "...           ...      ...            ...            ...      ...   ...   \n",
       "1995            2       75             64             24       55  29.7   \n",
       "1996            8      179             72             42      130  32.7   \n",
       "1997            6       85             78              0        0  31.2   \n",
       "1998            0      129            110             46      130  67.1   \n",
       "1999            2       81             72             15       76  30.1   \n",
       "\n",
       "      DiabetesPedigreeFunction  Age  Outcome  \n",
       "0                        0.127   47        1  \n",
       "1                        0.233   23        0  \n",
       "2                        0.630   31        1  \n",
       "3                        0.365   24        1  \n",
       "4                        0.536   21        0  \n",
       "...                        ...  ...      ...  \n",
       "1995                     0.370   33        0  \n",
       "1996                     0.719   36        1  \n",
       "1997                     0.382   42        0  \n",
       "1998                     0.319   26        1  \n",
       "1999                     0.547   25        0  \n",
       "\n",
       "[2000 rows x 9 columns]"
      ]
     },
     "execution_count": 10,
     "metadata": {},
     "output_type": "execute_result"
    }
   ],
   "source": [
    "df"
   ]
  },
  {
   "cell_type": "code",
   "execution_count": 11,
   "id": "10b68c70",
   "metadata": {
    "collapsed": true
   },
   "outputs": [
    {
     "name": "stdout",
     "output_type": "stream",
     "text": [
      "<class 'pandas.core.frame.DataFrame'>\n",
      "RangeIndex: 2000 entries, 0 to 1999\n",
      "Data columns (total 9 columns):\n",
      " #   Column                    Non-Null Count  Dtype  \n",
      "---  ------                    --------------  -----  \n",
      " 0   Pregnancies               2000 non-null   int64  \n",
      " 1   Glucose                   2000 non-null   int64  \n",
      " 2   BloodPressure             2000 non-null   int64  \n",
      " 3   SkinThickness             2000 non-null   int64  \n",
      " 4   Insulin                   2000 non-null   int64  \n",
      " 5   BMI                       2000 non-null   float64\n",
      " 6   DiabetesPedigreeFunction  2000 non-null   float64\n",
      " 7   Age                       2000 non-null   int64  \n",
      " 8   Outcome                   2000 non-null   int64  \n",
      "dtypes: float64(2), int64(7)\n",
      "memory usage: 140.8 KB\n"
     ]
    }
   ],
   "source": [
    "df.info()"
   ]
  },
  {
   "cell_type": "code",
   "execution_count": 12,
   "id": "0ab9ea7d",
   "metadata": {},
   "outputs": [],
   "source": [
    "x=df.iloc[:,0:8]"
   ]
  },
  {
   "cell_type": "code",
   "execution_count": 13,
   "id": "d73c5b75",
   "metadata": {},
   "outputs": [],
   "source": [
    "y=df.iloc[:,8]"
   ]
  },
  {
   "cell_type": "code",
   "execution_count": 14,
   "id": "d56b3ee8",
   "metadata": {
    "collapsed": true
   },
   "outputs": [
    {
     "data": {
      "text/html": [
       "<div>\n",
       "<style scoped>\n",
       "    .dataframe tbody tr th:only-of-type {\n",
       "        vertical-align: middle;\n",
       "    }\n",
       "\n",
       "    .dataframe tbody tr th {\n",
       "        vertical-align: top;\n",
       "    }\n",
       "\n",
       "    .dataframe thead th {\n",
       "        text-align: right;\n",
       "    }\n",
       "</style>\n",
       "<table border=\"1\" class=\"dataframe\">\n",
       "  <thead>\n",
       "    <tr style=\"text-align: right;\">\n",
       "      <th></th>\n",
       "      <th>Pregnancies</th>\n",
       "      <th>Glucose</th>\n",
       "      <th>BloodPressure</th>\n",
       "      <th>SkinThickness</th>\n",
       "      <th>Insulin</th>\n",
       "      <th>BMI</th>\n",
       "      <th>DiabetesPedigreeFunction</th>\n",
       "      <th>Age</th>\n",
       "    </tr>\n",
       "  </thead>\n",
       "  <tbody>\n",
       "    <tr>\n",
       "      <th>0</th>\n",
       "      <td>2</td>\n",
       "      <td>138</td>\n",
       "      <td>62</td>\n",
       "      <td>35</td>\n",
       "      <td>0</td>\n",
       "      <td>33.6</td>\n",
       "      <td>0.127</td>\n",
       "      <td>47</td>\n",
       "    </tr>\n",
       "    <tr>\n",
       "      <th>1</th>\n",
       "      <td>0</td>\n",
       "      <td>84</td>\n",
       "      <td>82</td>\n",
       "      <td>31</td>\n",
       "      <td>125</td>\n",
       "      <td>38.2</td>\n",
       "      <td>0.233</td>\n",
       "      <td>23</td>\n",
       "    </tr>\n",
       "    <tr>\n",
       "      <th>2</th>\n",
       "      <td>0</td>\n",
       "      <td>145</td>\n",
       "      <td>0</td>\n",
       "      <td>0</td>\n",
       "      <td>0</td>\n",
       "      <td>44.2</td>\n",
       "      <td>0.630</td>\n",
       "      <td>31</td>\n",
       "    </tr>\n",
       "    <tr>\n",
       "      <th>3</th>\n",
       "      <td>0</td>\n",
       "      <td>135</td>\n",
       "      <td>68</td>\n",
       "      <td>42</td>\n",
       "      <td>250</td>\n",
       "      <td>42.3</td>\n",
       "      <td>0.365</td>\n",
       "      <td>24</td>\n",
       "    </tr>\n",
       "    <tr>\n",
       "      <th>4</th>\n",
       "      <td>1</td>\n",
       "      <td>139</td>\n",
       "      <td>62</td>\n",
       "      <td>41</td>\n",
       "      <td>480</td>\n",
       "      <td>40.7</td>\n",
       "      <td>0.536</td>\n",
       "      <td>21</td>\n",
       "    </tr>\n",
       "    <tr>\n",
       "      <th>...</th>\n",
       "      <td>...</td>\n",
       "      <td>...</td>\n",
       "      <td>...</td>\n",
       "      <td>...</td>\n",
       "      <td>...</td>\n",
       "      <td>...</td>\n",
       "      <td>...</td>\n",
       "      <td>...</td>\n",
       "    </tr>\n",
       "    <tr>\n",
       "      <th>1995</th>\n",
       "      <td>2</td>\n",
       "      <td>75</td>\n",
       "      <td>64</td>\n",
       "      <td>24</td>\n",
       "      <td>55</td>\n",
       "      <td>29.7</td>\n",
       "      <td>0.370</td>\n",
       "      <td>33</td>\n",
       "    </tr>\n",
       "    <tr>\n",
       "      <th>1996</th>\n",
       "      <td>8</td>\n",
       "      <td>179</td>\n",
       "      <td>72</td>\n",
       "      <td>42</td>\n",
       "      <td>130</td>\n",
       "      <td>32.7</td>\n",
       "      <td>0.719</td>\n",
       "      <td>36</td>\n",
       "    </tr>\n",
       "    <tr>\n",
       "      <th>1997</th>\n",
       "      <td>6</td>\n",
       "      <td>85</td>\n",
       "      <td>78</td>\n",
       "      <td>0</td>\n",
       "      <td>0</td>\n",
       "      <td>31.2</td>\n",
       "      <td>0.382</td>\n",
       "      <td>42</td>\n",
       "    </tr>\n",
       "    <tr>\n",
       "      <th>1998</th>\n",
       "      <td>0</td>\n",
       "      <td>129</td>\n",
       "      <td>110</td>\n",
       "      <td>46</td>\n",
       "      <td>130</td>\n",
       "      <td>67.1</td>\n",
       "      <td>0.319</td>\n",
       "      <td>26</td>\n",
       "    </tr>\n",
       "    <tr>\n",
       "      <th>1999</th>\n",
       "      <td>2</td>\n",
       "      <td>81</td>\n",
       "      <td>72</td>\n",
       "      <td>15</td>\n",
       "      <td>76</td>\n",
       "      <td>30.1</td>\n",
       "      <td>0.547</td>\n",
       "      <td>25</td>\n",
       "    </tr>\n",
       "  </tbody>\n",
       "</table>\n",
       "<p>2000 rows × 8 columns</p>\n",
       "</div>"
      ],
      "text/plain": [
       "      Pregnancies  Glucose  BloodPressure  SkinThickness  Insulin   BMI  \\\n",
       "0               2      138             62             35        0  33.6   \n",
       "1               0       84             82             31      125  38.2   \n",
       "2               0      145              0              0        0  44.2   \n",
       "3               0      135             68             42      250  42.3   \n",
       "4               1      139             62             41      480  40.7   \n",
       "...           ...      ...            ...            ...      ...   ...   \n",
       "1995            2       75             64             24       55  29.7   \n",
       "1996            8      179             72             42      130  32.7   \n",
       "1997            6       85             78              0        0  31.2   \n",
       "1998            0      129            110             46      130  67.1   \n",
       "1999            2       81             72             15       76  30.1   \n",
       "\n",
       "      DiabetesPedigreeFunction  Age  \n",
       "0                        0.127   47  \n",
       "1                        0.233   23  \n",
       "2                        0.630   31  \n",
       "3                        0.365   24  \n",
       "4                        0.536   21  \n",
       "...                        ...  ...  \n",
       "1995                     0.370   33  \n",
       "1996                     0.719   36  \n",
       "1997                     0.382   42  \n",
       "1998                     0.319   26  \n",
       "1999                     0.547   25  \n",
       "\n",
       "[2000 rows x 8 columns]"
      ]
     },
     "execution_count": 14,
     "metadata": {},
     "output_type": "execute_result"
    }
   ],
   "source": [
    "x"
   ]
  },
  {
   "cell_type": "code",
   "execution_count": 15,
   "id": "ca642417",
   "metadata": {
    "collapsed": true
   },
   "outputs": [
    {
     "data": {
      "text/plain": [
       "0       1\n",
       "1       0\n",
       "2       1\n",
       "3       1\n",
       "4       0\n",
       "       ..\n",
       "1995    0\n",
       "1996    1\n",
       "1997    0\n",
       "1998    1\n",
       "1999    0\n",
       "Name: Outcome, Length: 2000, dtype: int64"
      ]
     },
     "execution_count": 15,
     "metadata": {},
     "output_type": "execute_result"
    }
   ],
   "source": [
    "y"
   ]
  },
  {
   "cell_type": "markdown",
   "id": "8dd66bcf",
   "metadata": {},
   "source": [
    "### Deep Learning"
   ]
  },
  {
   "cell_type": "code",
   "execution_count": 16,
   "id": "a0098b79",
   "metadata": {},
   "outputs": [],
   "source": [
    "model=Sequential()\n",
    "model.add(Dense(12,activation=\"relu\"))\n",
    "model.add(Dense(8,activation=\"relu\"))\n",
    "model.add(Dense(1,activation=\"sigmoid\"))"
   ]
  },
  {
   "cell_type": "code",
   "execution_count": 17,
   "id": "d60c0ecb",
   "metadata": {},
   "outputs": [],
   "source": [
    "model.compile(loss=\"binary_crossentropy\",optimizer=\"adam\",metrics=[\"accuracy\"])"
   ]
  },
  {
   "cell_type": "code",
   "execution_count": 18,
   "id": "00b7ae45",
   "metadata": {
    "collapsed": true
   },
   "outputs": [
    {
     "name": "stdout",
     "output_type": "stream",
     "text": [
      "Epoch 1/150\n",
      "200/200 [==============================] - 1s 817us/step - loss: 1.1098 - accuracy: 0.5860\n",
      "Epoch 2/150\n",
      "200/200 [==============================] - 0s 822us/step - loss: 0.6788 - accuracy: 0.6490\n",
      "Epoch 3/150\n",
      "200/200 [==============================] - 0s 834us/step - loss: 0.6550 - accuracy: 0.6640\n",
      "Epoch 4/150\n",
      "200/200 [==============================] - 0s 787us/step - loss: 0.6400 - accuracy: 0.6670\n",
      "Epoch 5/150\n",
      "200/200 [==============================] - 0s 797us/step - loss: 0.6270 - accuracy: 0.6755\n",
      "Epoch 6/150\n",
      "200/200 [==============================] - 0s 842us/step - loss: 0.6204 - accuracy: 0.6760\n",
      "Epoch 7/150\n",
      "200/200 [==============================] - 0s 812us/step - loss: 0.6141 - accuracy: 0.6820\n",
      "Epoch 8/150\n",
      "200/200 [==============================] - 0s 847us/step - loss: 0.5965 - accuracy: 0.6995\n",
      "Epoch 9/150\n",
      "200/200 [==============================] - 0s 816us/step - loss: 0.5895 - accuracy: 0.7035\n",
      "Epoch 10/150\n",
      "200/200 [==============================] - 0s 961us/step - loss: 0.5822 - accuracy: 0.7020\n",
      "Epoch 11/150\n",
      "200/200 [==============================] - 0s 926us/step - loss: 0.5757 - accuracy: 0.7145\n",
      "Epoch 12/150\n",
      "200/200 [==============================] - 0s 812us/step - loss: 0.5708 - accuracy: 0.7140\n",
      "Epoch 13/150\n",
      "200/200 [==============================] - 0s 817us/step - loss: 0.5650 - accuracy: 0.7170\n",
      "Epoch 14/150\n",
      "200/200 [==============================] - 0s 897us/step - loss: 0.5639 - accuracy: 0.7130\n",
      "Epoch 15/150\n",
      "200/200 [==============================] - 0s 852us/step - loss: 0.5617 - accuracy: 0.7200\n",
      "Epoch 16/150\n",
      "200/200 [==============================] - 0s 891us/step - loss: 0.5560 - accuracy: 0.7120\n",
      "Epoch 17/150\n",
      "200/200 [==============================] - 0s 820us/step - loss: 0.5523 - accuracy: 0.7250\n",
      "Epoch 18/150\n",
      "200/200 [==============================] - 0s 840us/step - loss: 0.5497 - accuracy: 0.7235\n",
      "Epoch 19/150\n",
      "200/200 [==============================] - 0s 857us/step - loss: 0.5492 - accuracy: 0.7260\n",
      "Epoch 20/150\n",
      "200/200 [==============================] - 0s 797us/step - loss: 0.5453 - accuracy: 0.7310\n",
      "Epoch 21/150\n",
      "200/200 [==============================] - 0s 842us/step - loss: 0.5432 - accuracy: 0.7325\n",
      "Epoch 22/150\n",
      "200/200 [==============================] - 0s 797us/step - loss: 0.5430 - accuracy: 0.7295\n",
      "Epoch 23/150\n",
      "200/200 [==============================] - 0s 802us/step - loss: 0.5381 - accuracy: 0.7310\n",
      "Epoch 24/150\n",
      "200/200 [==============================] - 0s 943us/step - loss: 0.5372 - accuracy: 0.7350\n",
      "Epoch 25/150\n",
      "200/200 [==============================] - 0s 1ms/step - loss: 0.5351 - accuracy: 0.7355\n",
      "Epoch 26/150\n",
      "200/200 [==============================] - 0s 1ms/step - loss: 0.5347 - accuracy: 0.7350\n",
      "Epoch 27/150\n",
      "200/200 [==============================] - 0s 975us/step - loss: 0.5342 - accuracy: 0.7380\n",
      "Epoch 28/150\n",
      "200/200 [==============================] - 0s 1ms/step - loss: 0.5310 - accuracy: 0.7435\n",
      "Epoch 29/150\n",
      "200/200 [==============================] - 0s 987us/step - loss: 0.5278 - accuracy: 0.7420\n",
      "Epoch 30/150\n",
      "200/200 [==============================] - 0s 1ms/step - loss: 0.5239 - accuracy: 0.7480\n",
      "Epoch 31/150\n",
      "200/200 [==============================] - 0s 1ms/step - loss: 0.5225 - accuracy: 0.7480\n",
      "Epoch 32/150\n",
      "200/200 [==============================] - 0s 990us/step - loss: 0.5203 - accuracy: 0.7455\n",
      "Epoch 33/150\n",
      "200/200 [==============================] - 0s 1ms/step - loss: 0.5175 - accuracy: 0.7495\n",
      "Epoch 34/150\n",
      "200/200 [==============================] - 0s 790us/step - loss: 0.5140 - accuracy: 0.7480\n",
      "Epoch 35/150\n",
      "200/200 [==============================] - 0s 789us/step - loss: 0.5146 - accuracy: 0.7485\n",
      "Epoch 36/150\n",
      "200/200 [==============================] - 0s 807us/step - loss: 0.5131 - accuracy: 0.7455\n",
      "Epoch 37/150\n",
      "200/200 [==============================] - 0s 1ms/step - loss: 0.5107 - accuracy: 0.7520\n",
      "Epoch 38/150\n",
      "200/200 [==============================] - 0s 957us/step - loss: 0.5091 - accuracy: 0.7515\n",
      "Epoch 39/150\n",
      "200/200 [==============================] - 0s 802us/step - loss: 0.5068 - accuracy: 0.7530\n",
      "Epoch 40/150\n",
      "200/200 [==============================] - 0s 787us/step - loss: 0.5016 - accuracy: 0.7610\n",
      "Epoch 41/150\n",
      "200/200 [==============================] - 0s 799us/step - loss: 0.5036 - accuracy: 0.7510\n",
      "Epoch 42/150\n",
      "200/200 [==============================] - 0s 815us/step - loss: 0.5022 - accuracy: 0.7580\n",
      "Epoch 43/150\n",
      "200/200 [==============================] - 0s 802us/step - loss: 0.4994 - accuracy: 0.7625\n",
      "Epoch 44/150\n",
      "200/200 [==============================] - 0s 866us/step - loss: 0.4955 - accuracy: 0.7550\n",
      "Epoch 45/150\n",
      "200/200 [==============================] - 0s 837us/step - loss: 0.4946 - accuracy: 0.7540\n",
      "Epoch 46/150\n",
      "200/200 [==============================] - 0s 802us/step - loss: 0.4902 - accuracy: 0.7675\n",
      "Epoch 47/150\n",
      "200/200 [==============================] - 0s 912us/step - loss: 0.4921 - accuracy: 0.7525\n",
      "Epoch 48/150\n",
      "200/200 [==============================] - 0s 1ms/step - loss: 0.4924 - accuracy: 0.7555\n",
      "Epoch 49/150\n",
      "200/200 [==============================] - 0s 892us/step - loss: 0.4893 - accuracy: 0.7600\n",
      "Epoch 50/150\n",
      "200/200 [==============================] - 0s 1ms/step - loss: 0.4900 - accuracy: 0.7535\n",
      "Epoch 51/150\n",
      "200/200 [==============================] - 0s 971us/step - loss: 0.4870 - accuracy: 0.7540\n",
      "Epoch 52/150\n",
      "200/200 [==============================] - 0s 1ms/step - loss: 0.4914 - accuracy: 0.7600\n",
      "Epoch 53/150\n",
      "200/200 [==============================] - 0s 812us/step - loss: 0.4870 - accuracy: 0.7530\n",
      "Epoch 54/150\n",
      "200/200 [==============================] - 0s 817us/step - loss: 0.4860 - accuracy: 0.7510\n",
      "Epoch 55/150\n",
      "200/200 [==============================] - 0s 797us/step - loss: 0.4856 - accuracy: 0.7575\n",
      "Epoch 56/150\n",
      "200/200 [==============================] - 0s 1ms/step - loss: 0.4831 - accuracy: 0.7620\n",
      "Epoch 57/150\n",
      "200/200 [==============================] - 0s 1ms/step - loss: 0.4838 - accuracy: 0.7635\n",
      "Epoch 58/150\n",
      "200/200 [==============================] - 0s 1ms/step - loss: 0.4815 - accuracy: 0.7550\n",
      "Epoch 59/150\n",
      "200/200 [==============================] - 0s 1000us/step - loss: 0.4813 - accuracy: 0.7610\n",
      "Epoch 60/150\n",
      "200/200 [==============================] - 0s 995us/step - loss: 0.4784 - accuracy: 0.7635\n",
      "Epoch 61/150\n",
      "200/200 [==============================] - 0s 1ms/step - loss: 0.4780 - accuracy: 0.7565\n",
      "Epoch 62/150\n",
      "200/200 [==============================] - 0s 777us/step - loss: 0.4794 - accuracy: 0.7615\n",
      "Epoch 63/150\n",
      "200/200 [==============================] - 0s 782us/step - loss: 0.4780 - accuracy: 0.7620\n",
      "Epoch 64/150\n",
      "200/200 [==============================] - 0s 817us/step - loss: 0.4762 - accuracy: 0.7645\n",
      "Epoch 65/150\n",
      "200/200 [==============================] - 0s 847us/step - loss: 0.4786 - accuracy: 0.7660\n",
      "Epoch 66/150\n",
      "200/200 [==============================] - 0s 815us/step - loss: 0.4732 - accuracy: 0.7700\n",
      "Epoch 67/150\n",
      "200/200 [==============================] - 0s 802us/step - loss: 0.4716 - accuracy: 0.7665\n",
      "Epoch 68/150\n",
      "200/200 [==============================] - 0s 846us/step - loss: 0.4751 - accuracy: 0.7695\n",
      "Epoch 69/150\n",
      "200/200 [==============================] - 0s 827us/step - loss: 0.4722 - accuracy: 0.7655\n",
      "Epoch 70/150\n",
      "200/200 [==============================] - 0s 872us/step - loss: 0.4736 - accuracy: 0.7640\n",
      "Epoch 71/150\n",
      "200/200 [==============================] - 0s 847us/step - loss: 0.4719 - accuracy: 0.7605\n",
      "Epoch 72/150\n",
      "200/200 [==============================] - 0s 852us/step - loss: 0.4706 - accuracy: 0.7705\n",
      "Epoch 73/150\n",
      "200/200 [==============================] - 0s 892us/step - loss: 0.4678 - accuracy: 0.7710\n",
      "Epoch 74/150\n",
      "200/200 [==============================] - 0s 857us/step - loss: 0.4670 - accuracy: 0.7710\n",
      "Epoch 75/150\n",
      "200/200 [==============================] - 0s 775us/step - loss: 0.4710 - accuracy: 0.7625\n",
      "Epoch 76/150\n",
      "200/200 [==============================] - 0s 825us/step - loss: 0.4656 - accuracy: 0.7740\n",
      "Epoch 77/150\n",
      "200/200 [==============================] - 0s 810us/step - loss: 0.4655 - accuracy: 0.7690\n",
      "Epoch 78/150\n",
      "200/200 [==============================] - 0s 915us/step - loss: 0.4685 - accuracy: 0.7710\n",
      "Epoch 79/150\n",
      "200/200 [==============================] - 0s 882us/step - loss: 0.4644 - accuracy: 0.7700\n",
      "Epoch 80/150\n"
     ]
    },
    {
     "name": "stdout",
     "output_type": "stream",
     "text": [
      "200/200 [==============================] - 0s 812us/step - loss: 0.4642 - accuracy: 0.7685\n",
      "Epoch 81/150\n",
      "200/200 [==============================] - 0s 927us/step - loss: 0.4653 - accuracy: 0.7725\n",
      "Epoch 82/150\n",
      "200/200 [==============================] - 0s 767us/step - loss: 0.4637 - accuracy: 0.7740\n",
      "Epoch 83/150\n",
      "200/200 [==============================] - 0s 772us/step - loss: 0.4645 - accuracy: 0.7755\n",
      "Epoch 84/150\n",
      "200/200 [==============================] - 0s 782us/step - loss: 0.4613 - accuracy: 0.7675\n",
      "Epoch 85/150\n",
      "200/200 [==============================] - 0s 805us/step - loss: 0.4601 - accuracy: 0.7745\n",
      "Epoch 86/150\n",
      "200/200 [==============================] - 0s 862us/step - loss: 0.4609 - accuracy: 0.7745\n",
      "Epoch 87/150\n",
      "200/200 [==============================] - 0s 772us/step - loss: 0.4594 - accuracy: 0.7780\n",
      "Epoch 88/150\n",
      "200/200 [==============================] - 0s 752us/step - loss: 0.4612 - accuracy: 0.7720\n",
      "Epoch 89/150\n",
      "200/200 [==============================] - 0s 792us/step - loss: 0.4581 - accuracy: 0.7760\n",
      "Epoch 90/150\n",
      "200/200 [==============================] - 0s 797us/step - loss: 0.4619 - accuracy: 0.7780\n",
      "Epoch 91/150\n",
      "200/200 [==============================] - 0s 987us/step - loss: 0.4578 - accuracy: 0.7715\n",
      "Epoch 92/150\n",
      "200/200 [==============================] - 0s 881us/step - loss: 0.4532 - accuracy: 0.7730\n",
      "Epoch 93/150\n",
      "200/200 [==============================] - 0s 1ms/step - loss: 0.4568 - accuracy: 0.7810\n",
      "Epoch 94/150\n",
      "200/200 [==============================] - 0s 1ms/step - loss: 0.4555 - accuracy: 0.7800\n",
      "Epoch 95/150\n",
      "200/200 [==============================] - 0s 880us/step - loss: 0.4582 - accuracy: 0.7725\n",
      "Epoch 96/150\n",
      "200/200 [==============================] - 0s 1ms/step - loss: 0.4564 - accuracy: 0.7755\n",
      "Epoch 97/150\n",
      "200/200 [==============================] - 0s 962us/step - loss: 0.4566 - accuracy: 0.7785\n",
      "Epoch 98/150\n",
      "200/200 [==============================] - 0s 1ms/step - loss: 0.4552 - accuracy: 0.7755\n",
      "Epoch 99/150\n",
      "200/200 [==============================] - 0s 887us/step - loss: 0.4562 - accuracy: 0.7675\n",
      "Epoch 100/150\n",
      "200/200 [==============================] - 0s 812us/step - loss: 0.4597 - accuracy: 0.7800\n",
      "Epoch 101/150\n",
      "200/200 [==============================] - 0s 792us/step - loss: 0.4512 - accuracy: 0.7785\n",
      "Epoch 102/150\n",
      "200/200 [==============================] - 0s 784us/step - loss: 0.4516 - accuracy: 0.7840\n",
      "Epoch 103/150\n",
      "200/200 [==============================] - 0s 780us/step - loss: 0.4507 - accuracy: 0.7815\n",
      "Epoch 104/150\n",
      "200/200 [==============================] - 0s 849us/step - loss: 0.4599 - accuracy: 0.7730\n",
      "Epoch 105/150\n",
      "200/200 [==============================] - 0s 782us/step - loss: 0.4528 - accuracy: 0.7825\n",
      "Epoch 106/150\n",
      "200/200 [==============================] - 0s 797us/step - loss: 0.4521 - accuracy: 0.7735\n",
      "Epoch 107/150\n",
      "200/200 [==============================] - 0s 802us/step - loss: 0.4558 - accuracy: 0.7750\n",
      "Epoch 108/150\n",
      "200/200 [==============================] - 0s 817us/step - loss: 0.4557 - accuracy: 0.7790\n",
      "Epoch 109/150\n",
      "200/200 [==============================] - 0s 797us/step - loss: 0.4515 - accuracy: 0.7810\n",
      "Epoch 110/150\n",
      "200/200 [==============================] - 0s 832us/step - loss: 0.4505 - accuracy: 0.7885\n",
      "Epoch 111/150\n",
      "200/200 [==============================] - 0s 1ms/step - loss: 0.4495 - accuracy: 0.7805\n",
      "Epoch 112/150\n",
      "200/200 [==============================] - 0s 917us/step - loss: 0.4471 - accuracy: 0.7830\n",
      "Epoch 113/150\n",
      "200/200 [==============================] - 0s 837us/step - loss: 0.4493 - accuracy: 0.7805\n",
      "Epoch 114/150\n",
      "200/200 [==============================] - 0s 782us/step - loss: 0.4520 - accuracy: 0.7770\n",
      "Epoch 115/150\n",
      "200/200 [==============================] - 0s 787us/step - loss: 0.4487 - accuracy: 0.7795\n",
      "Epoch 116/150\n",
      "200/200 [==============================] - 0s 797us/step - loss: 0.4485 - accuracy: 0.7795\n",
      "Epoch 117/150\n",
      "200/200 [==============================] - 0s 812us/step - loss: 0.4476 - accuracy: 0.7805\n",
      "Epoch 118/150\n",
      "200/200 [==============================] - 0s 802us/step - loss: 0.4469 - accuracy: 0.7830\n",
      "Epoch 119/150\n",
      "200/200 [==============================] - 0s 811us/step - loss: 0.4517 - accuracy: 0.7755\n",
      "Epoch 120/150\n",
      "200/200 [==============================] - 0s 880us/step - loss: 0.4444 - accuracy: 0.7780\n",
      "Epoch 121/150\n",
      "200/200 [==============================] - 0s 1ms/step - loss: 0.4460 - accuracy: 0.7775\n",
      "Epoch 122/150\n",
      "200/200 [==============================] - 0s 855us/step - loss: 0.4461 - accuracy: 0.7850\n",
      "Epoch 123/150\n",
      "200/200 [==============================] - 0s 777us/step - loss: 0.4483 - accuracy: 0.7810\n",
      "Epoch 124/150\n",
      "200/200 [==============================] - 0s 822us/step - loss: 0.4394 - accuracy: 0.7800\n",
      "Epoch 125/150\n",
      "200/200 [==============================] - 0s 822us/step - loss: 0.4507 - accuracy: 0.7795\n",
      "Epoch 126/150\n",
      "200/200 [==============================] - 0s 817us/step - loss: 0.4409 - accuracy: 0.7815\n",
      "Epoch 127/150\n",
      "200/200 [==============================] - 0s 817us/step - loss: 0.4387 - accuracy: 0.7880\n",
      "Epoch 128/150\n",
      "200/200 [==============================] - 0s 790us/step - loss: 0.4414 - accuracy: 0.7850\n",
      "Epoch 129/150\n",
      "200/200 [==============================] - 0s 782us/step - loss: 0.4424 - accuracy: 0.7855\n",
      "Epoch 130/150\n",
      "200/200 [==============================] - 0s 793us/step - loss: 0.4409 - accuracy: 0.7955\n",
      "Epoch 131/150\n",
      "200/200 [==============================] - 0s 810us/step - loss: 0.4454 - accuracy: 0.7810\n",
      "Epoch 132/150\n",
      "200/200 [==============================] - 0s 782us/step - loss: 0.4422 - accuracy: 0.7810\n",
      "Epoch 133/150\n",
      "200/200 [==============================] - 0s 807us/step - loss: 0.4430 - accuracy: 0.7830\n",
      "Epoch 134/150\n",
      "200/200 [==============================] - 0s 912us/step - loss: 0.4391 - accuracy: 0.7860\n",
      "Epoch 135/150\n",
      "200/200 [==============================] - 0s 1ms/step - loss: 0.4395 - accuracy: 0.7875\n",
      "Epoch 136/150\n",
      "200/200 [==============================] - 0s 767us/step - loss: 0.4446 - accuracy: 0.7860\n",
      "Epoch 137/150\n",
      "200/200 [==============================] - 0s 797us/step - loss: 0.4330 - accuracy: 0.7860\n",
      "Epoch 138/150\n",
      "200/200 [==============================] - 0s 819us/step - loss: 0.4365 - accuracy: 0.7850\n",
      "Epoch 139/150\n",
      "200/200 [==============================] - 0s 825us/step - loss: 0.4334 - accuracy: 0.7885\n",
      "Epoch 140/150\n",
      "200/200 [==============================] - 0s 823us/step - loss: 0.4364 - accuracy: 0.7805\n",
      "Epoch 141/150\n",
      "200/200 [==============================] - 0s 814us/step - loss: 0.4379 - accuracy: 0.7845\n",
      "Epoch 142/150\n",
      "200/200 [==============================] - 0s 799us/step - loss: 0.4377 - accuracy: 0.7840\n",
      "Epoch 143/150\n",
      "200/200 [==============================] - 0s 802us/step - loss: 0.4317 - accuracy: 0.7870\n",
      "Epoch 144/150\n",
      "200/200 [==============================] - 0s 787us/step - loss: 0.4317 - accuracy: 0.7830\n",
      "Epoch 145/150\n",
      "200/200 [==============================] - 0s 782us/step - loss: 0.4383 - accuracy: 0.7835\n",
      "Epoch 146/150\n",
      "200/200 [==============================] - 0s 787us/step - loss: 0.4350 - accuracy: 0.7885\n",
      "Epoch 147/150\n",
      "200/200 [==============================] - 0s 792us/step - loss: 0.4329 - accuracy: 0.7855\n",
      "Epoch 148/150\n",
      "200/200 [==============================] - 0s 796us/step - loss: 0.4301 - accuracy: 0.7960\n",
      "Epoch 149/150\n",
      "200/200 [==============================] - 0s 1ms/step - loss: 0.4332 - accuracy: 0.7930\n",
      "Epoch 150/150\n",
      "200/200 [==============================] - 0s 1ms/step - loss: 0.4322 - accuracy: 0.7915\n"
     ]
    },
    {
     "data": {
      "text/plain": [
       "<keras.callbacks.History at 0x1facb49f2b0>"
      ]
     },
     "execution_count": 18,
     "metadata": {},
     "output_type": "execute_result"
    }
   ],
   "source": [
    "model.fit(x, y, epochs=150, batch_size=10, verbose=1)"
   ]
  },
  {
   "cell_type": "code",
   "execution_count": 19,
   "id": "97657bf1",
   "metadata": {
    "collapsed": true
   },
   "outputs": [
    {
     "name": "stdout",
     "output_type": "stream",
     "text": [
      "Model: \"sequential\"\n",
      "_________________________________________________________________\n",
      " Layer (type)                Output Shape              Param #   \n",
      "=================================================================\n",
      " dense (Dense)               (10, 12)                  108       \n",
      "                                                                 \n",
      " dense_1 (Dense)             (10, 8)                   104       \n",
      "                                                                 \n",
      " dense_2 (Dense)             (10, 1)                   9         \n",
      "                                                                 \n",
      "=================================================================\n",
      "Total params: 221\n",
      "Trainable params: 221\n",
      "Non-trainable params: 0\n",
      "_________________________________________________________________\n"
     ]
    }
   ],
   "source": [
    "model.summary()"
   ]
  },
  {
   "cell_type": "code",
   "execution_count": 20,
   "id": "05abcd3b",
   "metadata": {
    "collapsed": true
   },
   "outputs": [
    {
     "name": "stdout",
     "output_type": "stream",
     "text": [
      "63/63 [==============================] - 0s 820us/step - loss: 0.4367 - accuracy: 0.7785\n"
     ]
    }
   ],
   "source": [
    "scores=model.evaluate(x,y)"
   ]
  },
  {
   "cell_type": "code",
   "execution_count": 21,
   "id": "2d9e104a",
   "metadata": {
    "collapsed": true
   },
   "outputs": [
    {
     "name": "stdout",
     "output_type": "stream",
     "text": [
      "Epoch 1/200\n",
      "160/160 - 0s - loss: 0.4449 - accuracy: 0.7831 - val_loss: 0.4010 - val_accuracy: 0.8150 - 207ms/epoch - 1ms/step\n",
      "Epoch 2/200\n",
      "160/160 - 0s - loss: 0.4416 - accuracy: 0.7831 - val_loss: 0.4045 - val_accuracy: 0.8175 - 170ms/epoch - 1ms/step\n",
      "Epoch 3/200\n",
      "160/160 - 0s - loss: 0.4359 - accuracy: 0.7763 - val_loss: 0.3971 - val_accuracy: 0.8275 - 156ms/epoch - 976us/step\n",
      "Epoch 4/200\n",
      "160/160 - 0s - loss: 0.4456 - accuracy: 0.7738 - val_loss: 0.3980 - val_accuracy: 0.8175 - 175ms/epoch - 1ms/step\n",
      "Epoch 5/200\n",
      "160/160 - 0s - loss: 0.4350 - accuracy: 0.7837 - val_loss: 0.4039 - val_accuracy: 0.8150 - 166ms/epoch - 1ms/step\n",
      "Epoch 6/200\n",
      "160/160 - 0s - loss: 0.4388 - accuracy: 0.7831 - val_loss: 0.3985 - val_accuracy: 0.8075 - 152ms/epoch - 951us/step\n",
      "Epoch 7/200\n",
      "160/160 - 0s - loss: 0.4344 - accuracy: 0.7900 - val_loss: 0.4061 - val_accuracy: 0.8050 - 156ms/epoch - 976us/step\n",
      "Epoch 8/200\n",
      "160/160 - 0s - loss: 0.4390 - accuracy: 0.7850 - val_loss: 0.4010 - val_accuracy: 0.8000 - 154ms/epoch - 960us/step\n",
      "Epoch 9/200\n",
      "160/160 - 0s - loss: 0.4336 - accuracy: 0.7806 - val_loss: 0.4066 - val_accuracy: 0.8100 - 161ms/epoch - 1ms/step\n",
      "Epoch 10/200\n",
      "160/160 - 0s - loss: 0.4380 - accuracy: 0.7862 - val_loss: 0.4021 - val_accuracy: 0.8050 - 167ms/epoch - 1ms/step\n",
      "Epoch 11/200\n",
      "160/160 - 0s - loss: 0.4369 - accuracy: 0.7856 - val_loss: 0.4333 - val_accuracy: 0.7950 - 148ms/epoch - 923us/step\n",
      "Epoch 12/200\n",
      "160/160 - 0s - loss: 0.4368 - accuracy: 0.7756 - val_loss: 0.3925 - val_accuracy: 0.8125 - 174ms/epoch - 1ms/step\n",
      "Epoch 13/200\n",
      "160/160 - 0s - loss: 0.4384 - accuracy: 0.7756 - val_loss: 0.3981 - val_accuracy: 0.8125 - 164ms/epoch - 1ms/step\n",
      "Epoch 14/200\n",
      "160/160 - 0s - loss: 0.4390 - accuracy: 0.7906 - val_loss: 0.4097 - val_accuracy: 0.8000 - 158ms/epoch - 985us/step\n",
      "Epoch 15/200\n",
      "160/160 - 0s - loss: 0.4420 - accuracy: 0.7844 - val_loss: 0.4076 - val_accuracy: 0.8100 - 157ms/epoch - 978us/step\n",
      "Epoch 16/200\n",
      "160/160 - 0s - loss: 0.4349 - accuracy: 0.7850 - val_loss: 0.4035 - val_accuracy: 0.8100 - 198ms/epoch - 1ms/step\n",
      "Epoch 17/200\n",
      "160/160 - 0s - loss: 0.4351 - accuracy: 0.7837 - val_loss: 0.3973 - val_accuracy: 0.8150 - 164ms/epoch - 1ms/step\n",
      "Epoch 18/200\n",
      "160/160 - 0s - loss: 0.4390 - accuracy: 0.7819 - val_loss: 0.4069 - val_accuracy: 0.8075 - 172ms/epoch - 1ms/step\n",
      "Epoch 19/200\n",
      "160/160 - 0s - loss: 0.4434 - accuracy: 0.7750 - val_loss: 0.4103 - val_accuracy: 0.7925 - 170ms/epoch - 1ms/step\n",
      "Epoch 20/200\n",
      "160/160 - 0s - loss: 0.4311 - accuracy: 0.7912 - val_loss: 0.4133 - val_accuracy: 0.8025 - 163ms/epoch - 1ms/step\n",
      "Epoch 21/200\n",
      "160/160 - 0s - loss: 0.4456 - accuracy: 0.7969 - val_loss: 0.3987 - val_accuracy: 0.8200 - 156ms/epoch - 972us/step\n",
      "Epoch 22/200\n",
      "160/160 - 0s - loss: 0.4359 - accuracy: 0.7844 - val_loss: 0.3953 - val_accuracy: 0.8150 - 153ms/epoch - 955us/step\n",
      "Epoch 23/200\n",
      "160/160 - 0s - loss: 0.4363 - accuracy: 0.7769 - val_loss: 0.4128 - val_accuracy: 0.8000 - 154ms/epoch - 960us/step\n",
      "Epoch 24/200\n",
      "160/160 - 0s - loss: 0.4361 - accuracy: 0.7850 - val_loss: 0.3932 - val_accuracy: 0.8100 - 166ms/epoch - 1ms/step\n",
      "Epoch 25/200\n",
      "160/160 - 0s - loss: 0.4301 - accuracy: 0.7812 - val_loss: 0.3981 - val_accuracy: 0.8275 - 155ms/epoch - 967us/step\n",
      "Epoch 26/200\n",
      "160/160 - 0s - loss: 0.4328 - accuracy: 0.7912 - val_loss: 0.3963 - val_accuracy: 0.8025 - 154ms/epoch - 960us/step\n",
      "Epoch 27/200\n",
      "160/160 - 0s - loss: 0.4299 - accuracy: 0.7906 - val_loss: 0.4001 - val_accuracy: 0.8200 - 154ms/epoch - 960us/step\n",
      "Epoch 28/200\n",
      "160/160 - 0s - loss: 0.4339 - accuracy: 0.7906 - val_loss: 0.4077 - val_accuracy: 0.7950 - 151ms/epoch - 941us/step\n",
      "Epoch 29/200\n",
      "160/160 - 0s - loss: 0.4317 - accuracy: 0.7775 - val_loss: 0.4142 - val_accuracy: 0.8200 - 148ms/epoch - 923us/step\n",
      "Epoch 30/200\n",
      "160/160 - 0s - loss: 0.4363 - accuracy: 0.7887 - val_loss: 0.4075 - val_accuracy: 0.8100 - 150ms/epoch - 935us/step\n",
      "Epoch 31/200\n",
      "160/160 - 0s - loss: 0.4379 - accuracy: 0.7837 - val_loss: 0.3918 - val_accuracy: 0.8225 - 149ms/epoch - 929us/step\n",
      "Epoch 32/200\n",
      "160/160 - 0s - loss: 0.4371 - accuracy: 0.7837 - val_loss: 0.3982 - val_accuracy: 0.8225 - 150ms/epoch - 935us/step\n",
      "Epoch 33/200\n",
      "160/160 - 0s - loss: 0.4359 - accuracy: 0.7850 - val_loss: 0.3923 - val_accuracy: 0.8225 - 151ms/epoch - 946us/step\n",
      "Epoch 34/200\n",
      "160/160 - 0s - loss: 0.4318 - accuracy: 0.7850 - val_loss: 0.4074 - val_accuracy: 0.8150 - 150ms/epoch - 935us/step\n",
      "Epoch 35/200\n",
      "160/160 - 0s - loss: 0.4359 - accuracy: 0.7750 - val_loss: 0.3966 - val_accuracy: 0.8150 - 154ms/epoch - 964us/step\n",
      "Epoch 36/200\n",
      "160/160 - 0s - loss: 0.4360 - accuracy: 0.7744 - val_loss: 0.4239 - val_accuracy: 0.7875 - 171ms/epoch - 1ms/step\n",
      "Epoch 37/200\n",
      "160/160 - 0s - loss: 0.4390 - accuracy: 0.7825 - val_loss: 0.4026 - val_accuracy: 0.8175 - 152ms/epoch - 947us/step\n",
      "Epoch 38/200\n",
      "160/160 - 0s - loss: 0.4326 - accuracy: 0.7862 - val_loss: 0.4108 - val_accuracy: 0.8000 - 161ms/epoch - 1ms/step\n",
      "Epoch 39/200\n",
      "160/160 - 0s - loss: 0.4351 - accuracy: 0.7806 - val_loss: 0.4059 - val_accuracy: 0.8050 - 155ms/epoch - 966us/step\n",
      "Epoch 40/200\n",
      "160/160 - 0s - loss: 0.4335 - accuracy: 0.7837 - val_loss: 0.3921 - val_accuracy: 0.8125 - 170ms/epoch - 1ms/step\n",
      "Epoch 41/200\n",
      "160/160 - 0s - loss: 0.4341 - accuracy: 0.7875 - val_loss: 0.4094 - val_accuracy: 0.7925 - 150ms/epoch - 935us/step\n",
      "Epoch 42/200\n",
      "160/160 - 0s - loss: 0.4295 - accuracy: 0.7912 - val_loss: 0.4133 - val_accuracy: 0.7925 - 156ms/epoch - 976us/step\n",
      "Epoch 43/200\n",
      "160/160 - 0s - loss: 0.4344 - accuracy: 0.7856 - val_loss: 0.4029 - val_accuracy: 0.8125 - 156ms/epoch - 972us/step\n",
      "Epoch 44/200\n",
      "160/160 - 0s - loss: 0.4384 - accuracy: 0.7856 - val_loss: 0.3986 - val_accuracy: 0.8125 - 154ms/epoch - 963us/step\n",
      "Epoch 45/200\n",
      "160/160 - 0s - loss: 0.4357 - accuracy: 0.7887 - val_loss: 0.3968 - val_accuracy: 0.8100 - 160ms/epoch - 1ms/step\n",
      "Epoch 46/200\n",
      "160/160 - 0s - loss: 0.4287 - accuracy: 0.7919 - val_loss: 0.3963 - val_accuracy: 0.8200 - 181ms/epoch - 1ms/step\n",
      "Epoch 47/200\n",
      "160/160 - 0s - loss: 0.4323 - accuracy: 0.7875 - val_loss: 0.3921 - val_accuracy: 0.8125 - 163ms/epoch - 1ms/step\n",
      "Epoch 48/200\n",
      "160/160 - 0s - loss: 0.4322 - accuracy: 0.7881 - val_loss: 0.4118 - val_accuracy: 0.7975 - 163ms/epoch - 1ms/step\n",
      "Epoch 49/200\n",
      "160/160 - 0s - loss: 0.4390 - accuracy: 0.7850 - val_loss: 0.3875 - val_accuracy: 0.8325 - 159ms/epoch - 991us/step\n",
      "Epoch 50/200\n",
      "160/160 - 0s - loss: 0.4299 - accuracy: 0.7869 - val_loss: 0.4011 - val_accuracy: 0.8125 - 157ms/epoch - 979us/step\n",
      "Epoch 51/200\n",
      "160/160 - 0s - loss: 0.4330 - accuracy: 0.7850 - val_loss: 0.3892 - val_accuracy: 0.8175 - 154ms/epoch - 960us/step\n",
      "Epoch 52/200\n",
      "160/160 - 0s - loss: 0.4314 - accuracy: 0.7912 - val_loss: 0.4027 - val_accuracy: 0.8100 - 154ms/epoch - 966us/step\n",
      "Epoch 53/200\n",
      "160/160 - 0s - loss: 0.4339 - accuracy: 0.7850 - val_loss: 0.3942 - val_accuracy: 0.8300 - 156ms/epoch - 972us/step\n",
      "Epoch 54/200\n",
      "160/160 - 0s - loss: 0.4275 - accuracy: 0.7931 - val_loss: 0.3935 - val_accuracy: 0.8175 - 180ms/epoch - 1ms/step\n",
      "Epoch 55/200\n",
      "160/160 - 0s - loss: 0.4279 - accuracy: 0.7900 - val_loss: 0.3923 - val_accuracy: 0.8150 - 170ms/epoch - 1ms/step\n",
      "Epoch 56/200\n",
      "160/160 - 0s - loss: 0.4312 - accuracy: 0.7969 - val_loss: 0.3906 - val_accuracy: 0.8150 - 168ms/epoch - 1ms/step\n",
      "Epoch 57/200\n",
      "160/160 - 0s - loss: 0.4337 - accuracy: 0.7856 - val_loss: 0.4031 - val_accuracy: 0.8075 - 155ms/epoch - 966us/step\n",
      "Epoch 58/200\n",
      "160/160 - 0s - loss: 0.4336 - accuracy: 0.7869 - val_loss: 0.4188 - val_accuracy: 0.7750 - 177ms/epoch - 1ms/step\n",
      "Epoch 59/200\n",
      "160/160 - 0s - loss: 0.4286 - accuracy: 0.7944 - val_loss: 0.3963 - val_accuracy: 0.8175 - 182ms/epoch - 1ms/step\n",
      "Epoch 60/200\n",
      "160/160 - 0s - loss: 0.4327 - accuracy: 0.7825 - val_loss: 0.4189 - val_accuracy: 0.7925 - 171ms/epoch - 1ms/step\n",
      "Epoch 61/200\n",
      "160/160 - 0s - loss: 0.4294 - accuracy: 0.7831 - val_loss: 0.4064 - val_accuracy: 0.8100 - 157ms/epoch - 979us/step\n",
      "Epoch 62/200\n",
      "160/160 - 0s - loss: 0.4339 - accuracy: 0.7825 - val_loss: 0.3859 - val_accuracy: 0.8200 - 147ms/epoch - 922us/step\n",
      "Epoch 63/200\n",
      "160/160 - 0s - loss: 0.4298 - accuracy: 0.7850 - val_loss: 0.3882 - val_accuracy: 0.8200 - 159ms/epoch - 991us/step\n",
      "Epoch 64/200\n",
      "160/160 - 0s - loss: 0.4408 - accuracy: 0.7925 - val_loss: 0.3961 - val_accuracy: 0.8175 - 182ms/epoch - 1ms/step\n",
      "Epoch 65/200\n"
     ]
    },
    {
     "name": "stdout",
     "output_type": "stream",
     "text": [
      "160/160 - 0s - loss: 0.4347 - accuracy: 0.7837 - val_loss: 0.3887 - val_accuracy: 0.8275 - 151ms/epoch - 941us/step\n",
      "Epoch 66/200\n",
      "160/160 - 0s - loss: 0.4297 - accuracy: 0.7862 - val_loss: 0.3881 - val_accuracy: 0.8200 - 158ms/epoch - 985us/step\n",
      "Epoch 67/200\n",
      "160/160 - 0s - loss: 0.4280 - accuracy: 0.7931 - val_loss: 0.3947 - val_accuracy: 0.8200 - 159ms/epoch - 991us/step\n",
      "Epoch 68/200\n",
      "160/160 - 0s - loss: 0.4290 - accuracy: 0.7906 - val_loss: 0.4008 - val_accuracy: 0.8125 - 168ms/epoch - 1ms/step\n",
      "Epoch 69/200\n",
      "160/160 - 0s - loss: 0.4293 - accuracy: 0.7906 - val_loss: 0.3963 - val_accuracy: 0.8075 - 182ms/epoch - 1ms/step\n",
      "Epoch 70/200\n",
      "160/160 - 0s - loss: 0.4372 - accuracy: 0.7912 - val_loss: 0.3932 - val_accuracy: 0.8150 - 184ms/epoch - 1ms/step\n",
      "Epoch 71/200\n",
      "160/160 - 0s - loss: 0.4267 - accuracy: 0.7969 - val_loss: 0.3838 - val_accuracy: 0.8300 - 199ms/epoch - 1ms/step\n",
      "Epoch 72/200\n",
      "160/160 - 0s - loss: 0.4361 - accuracy: 0.7912 - val_loss: 0.3873 - val_accuracy: 0.8225 - 169ms/epoch - 1ms/step\n",
      "Epoch 73/200\n",
      "160/160 - 0s - loss: 0.4333 - accuracy: 0.7856 - val_loss: 0.3935 - val_accuracy: 0.8050 - 156ms/epoch - 972us/step\n",
      "Epoch 74/200\n",
      "160/160 - 0s - loss: 0.4306 - accuracy: 0.7950 - val_loss: 0.3865 - val_accuracy: 0.8150 - 154ms/epoch - 960us/step\n",
      "Epoch 75/200\n",
      "160/160 - 0s - loss: 0.4284 - accuracy: 0.7919 - val_loss: 0.3926 - val_accuracy: 0.8225 - 187ms/epoch - 1ms/step\n",
      "Epoch 76/200\n",
      "160/160 - 0s - loss: 0.4327 - accuracy: 0.7831 - val_loss: 0.4166 - val_accuracy: 0.7950 - 160ms/epoch - 997us/step\n",
      "Epoch 77/200\n",
      "160/160 - 0s - loss: 0.4270 - accuracy: 0.8012 - val_loss: 0.3919 - val_accuracy: 0.8300 - 164ms/epoch - 1ms/step\n",
      "Epoch 78/200\n",
      "160/160 - 0s - loss: 0.4291 - accuracy: 0.7969 - val_loss: 0.3999 - val_accuracy: 0.8175 - 157ms/epoch - 979us/step\n",
      "Epoch 79/200\n",
      "160/160 - 0s - loss: 0.4240 - accuracy: 0.7906 - val_loss: 0.3974 - val_accuracy: 0.8050 - 150ms/epoch - 935us/step\n",
      "Epoch 80/200\n",
      "160/160 - 0s - loss: 0.4312 - accuracy: 0.7906 - val_loss: 0.3918 - val_accuracy: 0.8250 - 169ms/epoch - 1ms/step\n",
      "Epoch 81/200\n",
      "160/160 - 0s - loss: 0.4340 - accuracy: 0.7844 - val_loss: 0.3921 - val_accuracy: 0.8100 - 174ms/epoch - 1ms/step\n",
      "Epoch 82/200\n",
      "160/160 - 0s - loss: 0.4265 - accuracy: 0.7981 - val_loss: 0.4109 - val_accuracy: 0.7975 - 151ms/epoch - 941us/step\n",
      "Epoch 83/200\n",
      "160/160 - 0s - loss: 0.4327 - accuracy: 0.7862 - val_loss: 0.3853 - val_accuracy: 0.8250 - 148ms/epoch - 923us/step\n",
      "Epoch 84/200\n",
      "160/160 - 0s - loss: 0.4281 - accuracy: 0.7919 - val_loss: 0.3918 - val_accuracy: 0.8200 - 150ms/epoch - 935us/step\n",
      "Epoch 85/200\n",
      "160/160 - 0s - loss: 0.4302 - accuracy: 0.7862 - val_loss: 0.3836 - val_accuracy: 0.8325 - 150ms/epoch - 935us/step\n",
      "Epoch 86/200\n",
      "160/160 - 0s - loss: 0.4307 - accuracy: 0.7881 - val_loss: 0.3876 - val_accuracy: 0.8225 - 154ms/epoch - 960us/step\n",
      "Epoch 87/200\n",
      "160/160 - 0s - loss: 0.4266 - accuracy: 0.7931 - val_loss: 0.3918 - val_accuracy: 0.8275 - 193ms/epoch - 1ms/step\n",
      "Epoch 88/200\n",
      "160/160 - 0s - loss: 0.4252 - accuracy: 0.7875 - val_loss: 0.3840 - val_accuracy: 0.8225 - 183ms/epoch - 1ms/step\n",
      "Epoch 89/200\n",
      "160/160 - 0s - loss: 0.4346 - accuracy: 0.7862 - val_loss: 0.3990 - val_accuracy: 0.8075 - 207ms/epoch - 1ms/step\n",
      "Epoch 90/200\n",
      "160/160 - 0s - loss: 0.4273 - accuracy: 0.7912 - val_loss: 0.3816 - val_accuracy: 0.8350 - 201ms/epoch - 1ms/step\n",
      "Epoch 91/200\n",
      "160/160 - 0s - loss: 0.4272 - accuracy: 0.7931 - val_loss: 0.3877 - val_accuracy: 0.8175 - 170ms/epoch - 1ms/step\n",
      "Epoch 92/200\n",
      "160/160 - 0s - loss: 0.4284 - accuracy: 0.7906 - val_loss: 0.3910 - val_accuracy: 0.8275 - 170ms/epoch - 1ms/step\n",
      "Epoch 93/200\n",
      "160/160 - 0s - loss: 0.4254 - accuracy: 0.7925 - val_loss: 0.3891 - val_accuracy: 0.8250 - 186ms/epoch - 1ms/step\n",
      "Epoch 94/200\n",
      "160/160 - 0s - loss: 0.4291 - accuracy: 0.7900 - val_loss: 0.3875 - val_accuracy: 0.8175 - 175ms/epoch - 1ms/step\n",
      "Epoch 95/200\n",
      "160/160 - 0s - loss: 0.4311 - accuracy: 0.7837 - val_loss: 0.3991 - val_accuracy: 0.8125 - 210ms/epoch - 1ms/step\n",
      "Epoch 96/200\n",
      "160/160 - 0s - loss: 0.4248 - accuracy: 0.7900 - val_loss: 0.3884 - val_accuracy: 0.8350 - 224ms/epoch - 1ms/step\n",
      "Epoch 97/200\n",
      "160/160 - 0s - loss: 0.4323 - accuracy: 0.7881 - val_loss: 0.3982 - val_accuracy: 0.8225 - 181ms/epoch - 1ms/step\n",
      "Epoch 98/200\n",
      "160/160 - 0s - loss: 0.4295 - accuracy: 0.7931 - val_loss: 0.3882 - val_accuracy: 0.8150 - 252ms/epoch - 2ms/step\n",
      "Epoch 99/200\n",
      "160/160 - 0s - loss: 0.4276 - accuracy: 0.7906 - val_loss: 0.3817 - val_accuracy: 0.8325 - 161ms/epoch - 1ms/step\n",
      "Epoch 100/200\n",
      "160/160 - 0s - loss: 0.4346 - accuracy: 0.7800 - val_loss: 0.3937 - val_accuracy: 0.8250 - 153ms/epoch - 954us/step\n",
      "Epoch 101/200\n",
      "160/160 - 0s - loss: 0.4269 - accuracy: 0.7912 - val_loss: 0.3903 - val_accuracy: 0.8150 - 152ms/epoch - 947us/step\n",
      "Epoch 102/200\n",
      "160/160 - 0s - loss: 0.4233 - accuracy: 0.7894 - val_loss: 0.3840 - val_accuracy: 0.8350 - 152ms/epoch - 947us/step\n",
      "Epoch 103/200\n",
      "160/160 - 0s - loss: 0.4226 - accuracy: 0.7987 - val_loss: 0.3890 - val_accuracy: 0.8375 - 148ms/epoch - 923us/step\n",
      "Epoch 104/200\n",
      "160/160 - 0s - loss: 0.4259 - accuracy: 0.7894 - val_loss: 0.3874 - val_accuracy: 0.8425 - 148ms/epoch - 923us/step\n",
      "Epoch 105/200\n",
      "160/160 - 0s - loss: 0.4307 - accuracy: 0.7937 - val_loss: 0.4116 - val_accuracy: 0.7900 - 149ms/epoch - 933us/step\n",
      "Epoch 106/200\n",
      "160/160 - 0s - loss: 0.4295 - accuracy: 0.7944 - val_loss: 0.4118 - val_accuracy: 0.8175 - 149ms/epoch - 929us/step\n",
      "Epoch 107/200\n",
      "160/160 - 0s - loss: 0.4257 - accuracy: 0.7937 - val_loss: 0.3835 - val_accuracy: 0.8250 - 149ms/epoch - 934us/step\n",
      "Epoch 108/200\n",
      "160/160 - 0s - loss: 0.4289 - accuracy: 0.7875 - val_loss: 0.3989 - val_accuracy: 0.7950 - 156ms/epoch - 972us/step\n",
      "Epoch 109/200\n",
      "160/160 - 0s - loss: 0.4302 - accuracy: 0.7931 - val_loss: 0.3783 - val_accuracy: 0.8375 - 150ms/epoch - 935us/step\n",
      "Epoch 110/200\n",
      "160/160 - 0s - loss: 0.4285 - accuracy: 0.7987 - val_loss: 0.3859 - val_accuracy: 0.8350 - 148ms/epoch - 923us/step\n",
      "Epoch 111/200\n",
      "160/160 - 0s - loss: 0.4210 - accuracy: 0.8000 - val_loss: 0.3825 - val_accuracy: 0.8275 - 153ms/epoch - 954us/step\n",
      "Epoch 112/200\n",
      "160/160 - 0s - loss: 0.4244 - accuracy: 0.7975 - val_loss: 0.3900 - val_accuracy: 0.8175 - 149ms/epoch - 929us/step\n",
      "Epoch 113/200\n",
      "160/160 - 0s - loss: 0.4364 - accuracy: 0.7875 - val_loss: 0.3925 - val_accuracy: 0.8150 - 177ms/epoch - 1ms/step\n",
      "Epoch 114/200\n",
      "160/160 - 0s - loss: 0.4310 - accuracy: 0.7744 - val_loss: 0.4109 - val_accuracy: 0.7925 - 160ms/epoch - 997us/step\n",
      "Epoch 115/200\n",
      "160/160 - 0s - loss: 0.4286 - accuracy: 0.7937 - val_loss: 0.3841 - val_accuracy: 0.8300 - 181ms/epoch - 1ms/step\n",
      "Epoch 116/200\n",
      "160/160 - 0s - loss: 0.4268 - accuracy: 0.7906 - val_loss: 0.3888 - val_accuracy: 0.8275 - 149ms/epoch - 932us/step\n",
      "Epoch 117/200\n",
      "160/160 - 0s - loss: 0.4211 - accuracy: 0.7919 - val_loss: 0.4019 - val_accuracy: 0.8275 - 161ms/epoch - 1ms/step\n",
      "Epoch 118/200\n",
      "160/160 - 0s - loss: 0.4246 - accuracy: 0.7881 - val_loss: 0.3842 - val_accuracy: 0.8250 - 183ms/epoch - 1ms/step\n",
      "Epoch 119/200\n",
      "160/160 - 0s - loss: 0.4244 - accuracy: 0.7925 - val_loss: 0.3882 - val_accuracy: 0.8250 - 155ms/epoch - 966us/step\n",
      "Epoch 120/200\n",
      "160/160 - 0s - loss: 0.4215 - accuracy: 0.7981 - val_loss: 0.3856 - val_accuracy: 0.8300 - 155ms/epoch - 966us/step\n",
      "Epoch 121/200\n",
      "160/160 - 0s - loss: 0.4226 - accuracy: 0.7956 - val_loss: 0.3784 - val_accuracy: 0.8250 - 150ms/epoch - 935us/step\n",
      "Epoch 122/200\n",
      "160/160 - 0s - loss: 0.4276 - accuracy: 0.7962 - val_loss: 0.3807 - val_accuracy: 0.8225 - 150ms/epoch - 935us/step\n",
      "Epoch 123/200\n",
      "160/160 - 0s - loss: 0.4208 - accuracy: 0.7912 - val_loss: 0.3894 - val_accuracy: 0.8275 - 155ms/epoch - 966us/step\n",
      "Epoch 124/200\n",
      "160/160 - 0s - loss: 0.4278 - accuracy: 0.7875 - val_loss: 0.4016 - val_accuracy: 0.8125 - 153ms/epoch - 954us/step\n",
      "Epoch 125/200\n",
      "160/160 - 0s - loss: 0.4241 - accuracy: 0.7987 - val_loss: 0.3945 - val_accuracy: 0.8100 - 148ms/epoch - 927us/step\n",
      "Epoch 126/200\n",
      "160/160 - 0s - loss: 0.4218 - accuracy: 0.8006 - val_loss: 0.3835 - val_accuracy: 0.8250 - 148ms/epoch - 923us/step\n",
      "Epoch 127/200\n",
      "160/160 - 0s - loss: 0.4249 - accuracy: 0.8025 - val_loss: 0.3921 - val_accuracy: 0.8100 - 149ms/epoch - 931us/step\n",
      "Epoch 128/200\n",
      "160/160 - 0s - loss: 0.4236 - accuracy: 0.7919 - val_loss: 0.3913 - val_accuracy: 0.8125 - 149ms/epoch - 929us/step\n"
     ]
    },
    {
     "name": "stdout",
     "output_type": "stream",
     "text": [
      "Epoch 129/200\n",
      "160/160 - 0s - loss: 0.4248 - accuracy: 0.7994 - val_loss: 0.3842 - val_accuracy: 0.8250 - 154ms/epoch - 960us/step\n",
      "Epoch 130/200\n",
      "160/160 - 0s - loss: 0.4300 - accuracy: 0.7937 - val_loss: 0.3798 - val_accuracy: 0.8400 - 149ms/epoch - 929us/step\n",
      "Epoch 131/200\n",
      "160/160 - 0s - loss: 0.4265 - accuracy: 0.7975 - val_loss: 0.3867 - val_accuracy: 0.8300 - 149ms/epoch - 929us/step\n",
      "Epoch 132/200\n",
      "160/160 - 0s - loss: 0.4286 - accuracy: 0.7925 - val_loss: 0.3889 - val_accuracy: 0.8100 - 151ms/epoch - 941us/step\n",
      "Epoch 133/200\n",
      "160/160 - 0s - loss: 0.4287 - accuracy: 0.7931 - val_loss: 0.3869 - val_accuracy: 0.8250 - 160ms/epoch - 997us/step\n",
      "Epoch 134/200\n",
      "160/160 - 0s - loss: 0.4223 - accuracy: 0.8031 - val_loss: 0.3871 - val_accuracy: 0.8325 - 158ms/epoch - 985us/step\n",
      "Epoch 135/200\n",
      "160/160 - 0s - loss: 0.4237 - accuracy: 0.7912 - val_loss: 0.4018 - val_accuracy: 0.8175 - 172ms/epoch - 1ms/step\n",
      "Epoch 136/200\n",
      "160/160 - 0s - loss: 0.4291 - accuracy: 0.7944 - val_loss: 0.3957 - val_accuracy: 0.8300 - 174ms/epoch - 1ms/step\n",
      "Epoch 137/200\n",
      "160/160 - 0s - loss: 0.4190 - accuracy: 0.7975 - val_loss: 0.3978 - val_accuracy: 0.8175 - 164ms/epoch - 1ms/step\n",
      "Epoch 138/200\n",
      "160/160 - 0s - loss: 0.4235 - accuracy: 0.7906 - val_loss: 0.3802 - val_accuracy: 0.8300 - 177ms/epoch - 1ms/step\n",
      "Epoch 139/200\n",
      "160/160 - 0s - loss: 0.4212 - accuracy: 0.7956 - val_loss: 0.3779 - val_accuracy: 0.8275 - 159ms/epoch - 991us/step\n",
      "Epoch 140/200\n",
      "160/160 - 0s - loss: 0.4204 - accuracy: 0.7981 - val_loss: 0.3851 - val_accuracy: 0.8275 - 182ms/epoch - 1ms/step\n",
      "Epoch 141/200\n",
      "160/160 - 0s - loss: 0.4225 - accuracy: 0.7956 - val_loss: 0.3897 - val_accuracy: 0.8275 - 166ms/epoch - 1ms/step\n",
      "Epoch 142/200\n",
      "160/160 - 0s - loss: 0.4278 - accuracy: 0.7912 - val_loss: 0.3880 - val_accuracy: 0.8275 - 189ms/epoch - 1ms/step\n",
      "Epoch 143/200\n",
      "160/160 - 0s - loss: 0.4221 - accuracy: 0.7969 - val_loss: 0.3785 - val_accuracy: 0.8400 - 157ms/epoch - 979us/step\n",
      "Epoch 144/200\n",
      "160/160 - 0s - loss: 0.4251 - accuracy: 0.7950 - val_loss: 0.3842 - val_accuracy: 0.8175 - 199ms/epoch - 1ms/step\n",
      "Epoch 145/200\n",
      "160/160 - 0s - loss: 0.4229 - accuracy: 0.8000 - val_loss: 0.3873 - val_accuracy: 0.8300 - 158ms/epoch - 985us/step\n",
      "Epoch 146/200\n",
      "160/160 - 0s - loss: 0.4278 - accuracy: 0.7887 - val_loss: 0.3912 - val_accuracy: 0.8225 - 157ms/epoch - 979us/step\n",
      "Epoch 147/200\n",
      "160/160 - 0s - loss: 0.4287 - accuracy: 0.7994 - val_loss: 0.3876 - val_accuracy: 0.8350 - 160ms/epoch - 997us/step\n",
      "Epoch 148/200\n",
      "160/160 - 0s - loss: 0.4265 - accuracy: 0.7887 - val_loss: 0.3811 - val_accuracy: 0.8150 - 182ms/epoch - 1ms/step\n",
      "Epoch 149/200\n",
      "160/160 - 0s - loss: 0.4210 - accuracy: 0.7925 - val_loss: 0.3845 - val_accuracy: 0.8225 - 175ms/epoch - 1ms/step\n",
      "Epoch 150/200\n",
      "160/160 - 0s - loss: 0.4218 - accuracy: 0.7981 - val_loss: 0.3788 - val_accuracy: 0.8375 - 151ms/epoch - 941us/step\n",
      "Epoch 151/200\n",
      "160/160 - 0s - loss: 0.4193 - accuracy: 0.7900 - val_loss: 0.3882 - val_accuracy: 0.8300 - 150ms/epoch - 939us/step\n",
      "Epoch 152/200\n",
      "160/160 - 0s - loss: 0.4234 - accuracy: 0.7950 - val_loss: 0.3818 - val_accuracy: 0.8275 - 154ms/epoch - 960us/step\n",
      "Epoch 153/200\n",
      "160/160 - 0s - loss: 0.4230 - accuracy: 0.7931 - val_loss: 0.4112 - val_accuracy: 0.8125 - 187ms/epoch - 1ms/step\n",
      "Epoch 154/200\n",
      "160/160 - 0s - loss: 0.4308 - accuracy: 0.8019 - val_loss: 0.3812 - val_accuracy: 0.8375 - 157ms/epoch - 979us/step\n",
      "Epoch 155/200\n",
      "160/160 - 0s - loss: 0.4257 - accuracy: 0.7931 - val_loss: 0.3925 - val_accuracy: 0.8100 - 154ms/epoch - 960us/step\n",
      "Epoch 156/200\n",
      "160/160 - 0s - loss: 0.4217 - accuracy: 0.7919 - val_loss: 0.3888 - val_accuracy: 0.8300 - 151ms/epoch - 941us/step\n",
      "Epoch 157/200\n",
      "160/160 - 0s - loss: 0.4208 - accuracy: 0.8000 - val_loss: 0.3925 - val_accuracy: 0.8200 - 160ms/epoch - 997us/step\n",
      "Epoch 158/200\n",
      "160/160 - 0s - loss: 0.4225 - accuracy: 0.8006 - val_loss: 0.3909 - val_accuracy: 0.8150 - 187ms/epoch - 1ms/step\n",
      "Epoch 159/200\n",
      "160/160 - 0s - loss: 0.4233 - accuracy: 0.7919 - val_loss: 0.3884 - val_accuracy: 0.8175 - 152ms/epoch - 951us/step\n",
      "Epoch 160/200\n",
      "160/160 - 0s - loss: 0.4222 - accuracy: 0.7931 - val_loss: 0.3845 - val_accuracy: 0.8350 - 153ms/epoch - 959us/step\n",
      "Epoch 161/200\n",
      "160/160 - 0s - loss: 0.4263 - accuracy: 0.7950 - val_loss: 0.3822 - val_accuracy: 0.8425 - 159ms/epoch - 992us/step\n",
      "Epoch 162/200\n",
      "160/160 - 0s - loss: 0.4412 - accuracy: 0.7825 - val_loss: 0.4132 - val_accuracy: 0.8075 - 172ms/epoch - 1ms/step\n",
      "Epoch 163/200\n",
      "160/160 - 0s - loss: 0.4292 - accuracy: 0.7975 - val_loss: 0.3894 - val_accuracy: 0.8325 - 191ms/epoch - 1ms/step\n",
      "Epoch 164/200\n",
      "160/160 - 0s - loss: 0.4263 - accuracy: 0.7906 - val_loss: 0.3884 - val_accuracy: 0.8225 - 151ms/epoch - 941us/step\n",
      "Epoch 165/200\n",
      "160/160 - 0s - loss: 0.4204 - accuracy: 0.7950 - val_loss: 0.3821 - val_accuracy: 0.8250 - 153ms/epoch - 954us/step\n",
      "Epoch 166/200\n",
      "160/160 - 0s - loss: 0.4238 - accuracy: 0.7900 - val_loss: 0.3791 - val_accuracy: 0.8275 - 187ms/epoch - 1ms/step\n",
      "Epoch 167/200\n",
      "160/160 - 0s - loss: 0.4205 - accuracy: 0.7987 - val_loss: 0.3828 - val_accuracy: 0.8300 - 153ms/epoch - 954us/step\n",
      "Epoch 168/200\n",
      "160/160 - 0s - loss: 0.4238 - accuracy: 0.7912 - val_loss: 0.3844 - val_accuracy: 0.8225 - 152ms/epoch - 948us/step\n",
      "Epoch 169/200\n",
      "160/160 - 0s - loss: 0.4220 - accuracy: 0.7956 - val_loss: 0.3954 - val_accuracy: 0.8250 - 156ms/epoch - 972us/step\n",
      "Epoch 170/200\n",
      "160/160 - 0s - loss: 0.4244 - accuracy: 0.7912 - val_loss: 0.3767 - val_accuracy: 0.8275 - 165ms/epoch - 1ms/step\n",
      "Epoch 171/200\n",
      "160/160 - 0s - loss: 0.4215 - accuracy: 0.7950 - val_loss: 0.3959 - val_accuracy: 0.8150 - 189ms/epoch - 1ms/step\n",
      "Epoch 172/200\n",
      "160/160 - 0s - loss: 0.4202 - accuracy: 0.7944 - val_loss: 0.3859 - val_accuracy: 0.8150 - 159ms/epoch - 991us/step\n",
      "Epoch 173/200\n",
      "160/160 - 0s - loss: 0.4230 - accuracy: 0.7931 - val_loss: 0.3905 - val_accuracy: 0.8150 - 195ms/epoch - 1ms/step\n",
      "Epoch 174/200\n",
      "160/160 - 0s - loss: 0.4215 - accuracy: 0.8000 - val_loss: 0.3807 - val_accuracy: 0.8275 - 196ms/epoch - 1ms/step\n",
      "Epoch 175/200\n",
      "160/160 - 0s - loss: 0.4199 - accuracy: 0.7887 - val_loss: 0.3904 - val_accuracy: 0.8000 - 152ms/epoch - 947us/step\n",
      "Epoch 176/200\n",
      "160/160 - 0s - loss: 0.4180 - accuracy: 0.7937 - val_loss: 0.3924 - val_accuracy: 0.8200 - 188ms/epoch - 1ms/step\n",
      "Epoch 177/200\n",
      "160/160 - 0s - loss: 0.4355 - accuracy: 0.7975 - val_loss: 0.4074 - val_accuracy: 0.8100 - 162ms/epoch - 1ms/step\n",
      "Epoch 178/200\n",
      "160/160 - 0s - loss: 0.4340 - accuracy: 0.7850 - val_loss: 0.3971 - val_accuracy: 0.8225 - 168ms/epoch - 1ms/step\n",
      "Epoch 179/200\n",
      "160/160 - 0s - loss: 0.4376 - accuracy: 0.7894 - val_loss: 0.3990 - val_accuracy: 0.8250 - 155ms/epoch - 966us/step\n",
      "Epoch 180/200\n",
      "160/160 - 0s - loss: 0.4266 - accuracy: 0.7887 - val_loss: 0.4133 - val_accuracy: 0.8125 - 198ms/epoch - 1ms/step\n",
      "Epoch 181/200\n",
      "160/160 - 0s - loss: 0.4298 - accuracy: 0.7906 - val_loss: 0.4008 - val_accuracy: 0.8075 - 154ms/epoch - 960us/step\n",
      "Epoch 182/200\n",
      "160/160 - 0s - loss: 0.4224 - accuracy: 0.7950 - val_loss: 0.3898 - val_accuracy: 0.8225 - 199ms/epoch - 1ms/step\n",
      "Epoch 183/200\n",
      "160/160 - 0s - loss: 0.4218 - accuracy: 0.7869 - val_loss: 0.4093 - val_accuracy: 0.7925 - 162ms/epoch - 1ms/step\n",
      "Epoch 184/200\n",
      "160/160 - 0s - loss: 0.4239 - accuracy: 0.7900 - val_loss: 0.3843 - val_accuracy: 0.8250 - 184ms/epoch - 1ms/step\n",
      "Epoch 185/200\n",
      "160/160 - 0s - loss: 0.4269 - accuracy: 0.7912 - val_loss: 0.3792 - val_accuracy: 0.8350 - 165ms/epoch - 1ms/step\n",
      "Epoch 186/200\n",
      "160/160 - 0s - loss: 0.4216 - accuracy: 0.7944 - val_loss: 0.3764 - val_accuracy: 0.8325 - 157ms/epoch - 980us/step\n",
      "Epoch 187/200\n",
      "160/160 - 0s - loss: 0.4297 - accuracy: 0.7925 - val_loss: 0.3800 - val_accuracy: 0.8325 - 193ms/epoch - 1ms/step\n",
      "Epoch 188/200\n",
      "160/160 - 0s - loss: 0.4207 - accuracy: 0.7931 - val_loss: 0.3814 - val_accuracy: 0.8425 - 157ms/epoch - 979us/step\n",
      "Epoch 189/200\n",
      "160/160 - 0s - loss: 0.4224 - accuracy: 0.7919 - val_loss: 0.3926 - val_accuracy: 0.8100 - 151ms/epoch - 941us/step\n",
      "Epoch 190/200\n",
      "160/160 - 0s - loss: 0.4227 - accuracy: 0.7981 - val_loss: 0.3822 - val_accuracy: 0.8225 - 218ms/epoch - 1ms/step\n",
      "Epoch 191/200\n",
      "160/160 - 0s - loss: 0.4299 - accuracy: 0.7825 - val_loss: 0.3792 - val_accuracy: 0.8175 - 174ms/epoch - 1ms/step\n",
      "Epoch 192/200\n",
      "160/160 - 0s - loss: 0.4233 - accuracy: 0.7919 - val_loss: 0.3907 - val_accuracy: 0.8275 - 231ms/epoch - 1ms/step\n"
     ]
    },
    {
     "name": "stdout",
     "output_type": "stream",
     "text": [
      "Epoch 193/200\n",
      "160/160 - 0s - loss: 0.4241 - accuracy: 0.7844 - val_loss: 0.3823 - val_accuracy: 0.8275 - 174ms/epoch - 1ms/step\n",
      "Epoch 194/200\n",
      "160/160 - 0s - loss: 0.4205 - accuracy: 0.8006 - val_loss: 0.3828 - val_accuracy: 0.8225 - 219ms/epoch - 1ms/step\n",
      "Epoch 195/200\n",
      "160/160 - 0s - loss: 0.4198 - accuracy: 0.8000 - val_loss: 0.3912 - val_accuracy: 0.8275 - 164ms/epoch - 1ms/step\n",
      "Epoch 196/200\n",
      "160/160 - 0s - loss: 0.4205 - accuracy: 0.7969 - val_loss: 0.3830 - val_accuracy: 0.8350 - 155ms/epoch - 966us/step\n",
      "Epoch 197/200\n",
      "160/160 - 0s - loss: 0.4197 - accuracy: 0.7962 - val_loss: 0.3927 - val_accuracy: 0.8100 - 188ms/epoch - 1ms/step\n",
      "Epoch 198/200\n",
      "160/160 - 0s - loss: 0.4243 - accuracy: 0.7881 - val_loss: 0.3875 - val_accuracy: 0.8075 - 156ms/epoch - 972us/step\n",
      "Epoch 199/200\n",
      "160/160 - 0s - loss: 0.4254 - accuracy: 0.7937 - val_loss: 0.3827 - val_accuracy: 0.8325 - 169ms/epoch - 1ms/step\n",
      "Epoch 200/200\n",
      "160/160 - 0s - loss: 0.4223 - accuracy: 0.7962 - val_loss: 0.3812 - val_accuracy: 0.8275 - 175ms/epoch - 1ms/step\n"
     ]
    }
   ],
   "source": [
    "history=model.fit(x,y,validation_split=0.20,epochs=200,batch_size=10,verbose=2)"
   ]
  },
  {
   "cell_type": "code",
   "execution_count": 22,
   "id": "383d51fa",
   "metadata": {
    "collapsed": true
   },
   "outputs": [
    {
     "name": "stdout",
     "output_type": "stream",
     "text": [
      "dict_keys(['loss', 'accuracy', 'val_loss', 'val_accuracy'])\n"
     ]
    }
   ],
   "source": [
    "print(history.history.keys())"
   ]
  },
  {
   "cell_type": "code",
   "execution_count": 23,
   "id": "a102f750",
   "metadata": {
    "collapsed": true
   },
   "outputs": [
    {
     "data": {
      "text/plain": [
       "[0.7831249833106995,\n",
       " 0.7831249833106995,\n",
       " 0.7762500047683716,\n",
       " 0.7737500071525574,\n",
       " 0.7837499976158142,\n",
       " 0.7831249833106995,\n",
       " 0.7900000214576721,\n",
       " 0.7850000262260437,\n",
       " 0.7806249856948853,\n",
       " 0.7862499952316284,\n",
       " 0.7856249809265137,\n",
       " 0.7756249904632568,\n",
       " 0.7756249904632568,\n",
       " 0.7906249761581421,\n",
       " 0.784375011920929,\n",
       " 0.7850000262260437,\n",
       " 0.7837499976158142,\n",
       " 0.7818750143051147,\n",
       " 0.7749999761581421,\n",
       " 0.7912499904632568,\n",
       " 0.796875,\n",
       " 0.784375011920929,\n",
       " 0.7768750190734863,\n",
       " 0.7850000262260437,\n",
       " 0.78125,\n",
       " 0.7912499904632568,\n",
       " 0.7906249761581421,\n",
       " 0.7906249761581421,\n",
       " 0.7774999737739563,\n",
       " 0.7887499928474426,\n",
       " 0.7837499976158142,\n",
       " 0.7837499976158142,\n",
       " 0.7850000262260437,\n",
       " 0.7850000262260437,\n",
       " 0.7749999761581421,\n",
       " 0.7743750214576721,\n",
       " 0.7825000286102295,\n",
       " 0.7862499952316284,\n",
       " 0.7806249856948853,\n",
       " 0.7837499976158142,\n",
       " 0.7875000238418579,\n",
       " 0.7912499904632568,\n",
       " 0.7856249809265137,\n",
       " 0.7856249809265137,\n",
       " 0.7887499928474426,\n",
       " 0.7918750047683716,\n",
       " 0.7875000238418579,\n",
       " 0.7881249785423279,\n",
       " 0.7850000262260437,\n",
       " 0.7868750095367432,\n",
       " 0.7850000262260437,\n",
       " 0.7912499904632568,\n",
       " 0.7850000262260437,\n",
       " 0.7931249737739563,\n",
       " 0.7900000214576721,\n",
       " 0.796875,\n",
       " 0.7856249809265137,\n",
       " 0.7868750095367432,\n",
       " 0.7943750023841858,\n",
       " 0.7825000286102295,\n",
       " 0.7831249833106995,\n",
       " 0.7825000286102295,\n",
       " 0.7850000262260437,\n",
       " 0.7925000190734863,\n",
       " 0.7837499976158142,\n",
       " 0.7862499952316284,\n",
       " 0.7931249737739563,\n",
       " 0.7906249761581421,\n",
       " 0.7906249761581421,\n",
       " 0.7912499904632568,\n",
       " 0.796875,\n",
       " 0.7912499904632568,\n",
       " 0.7856249809265137,\n",
       " 0.7950000166893005,\n",
       " 0.7918750047683716,\n",
       " 0.7831249833106995,\n",
       " 0.8012499809265137,\n",
       " 0.796875,\n",
       " 0.7906249761581421,\n",
       " 0.7906249761581421,\n",
       " 0.784375011920929,\n",
       " 0.7981250286102295,\n",
       " 0.7862499952316284,\n",
       " 0.7918750047683716,\n",
       " 0.7862499952316284,\n",
       " 0.7881249785423279,\n",
       " 0.7931249737739563,\n",
       " 0.7875000238418579,\n",
       " 0.7862499952316284,\n",
       " 0.7912499904632568,\n",
       " 0.7931249737739563,\n",
       " 0.7906249761581421,\n",
       " 0.7925000190734863,\n",
       " 0.7900000214576721,\n",
       " 0.7837499976158142,\n",
       " 0.7900000214576721,\n",
       " 0.7881249785423279,\n",
       " 0.7931249737739563,\n",
       " 0.7906249761581421,\n",
       " 0.7799999713897705,\n",
       " 0.7912499904632568,\n",
       " 0.7893750071525574,\n",
       " 0.7987499833106995,\n",
       " 0.7893750071525574,\n",
       " 0.793749988079071,\n",
       " 0.7943750023841858,\n",
       " 0.793749988079071,\n",
       " 0.7875000238418579,\n",
       " 0.7931249737739563,\n",
       " 0.7987499833106995,\n",
       " 0.800000011920929,\n",
       " 0.7975000143051147,\n",
       " 0.7875000238418579,\n",
       " 0.7743750214576721,\n",
       " 0.793749988079071,\n",
       " 0.7906249761581421,\n",
       " 0.7918750047683716,\n",
       " 0.7881249785423279,\n",
       " 0.7925000190734863,\n",
       " 0.7981250286102295,\n",
       " 0.7956249713897705,\n",
       " 0.7962499856948853,\n",
       " 0.7912499904632568,\n",
       " 0.7875000238418579,\n",
       " 0.7987499833106995,\n",
       " 0.8006250262260437,\n",
       " 0.8025000095367432,\n",
       " 0.7918750047683716,\n",
       " 0.7993749976158142,\n",
       " 0.793749988079071,\n",
       " 0.7975000143051147,\n",
       " 0.7925000190734863,\n",
       " 0.7931249737739563,\n",
       " 0.8031250238418579,\n",
       " 0.7912499904632568,\n",
       " 0.7943750023841858,\n",
       " 0.7975000143051147,\n",
       " 0.7906249761581421,\n",
       " 0.7956249713897705,\n",
       " 0.7981250286102295,\n",
       " 0.7956249713897705,\n",
       " 0.7912499904632568,\n",
       " 0.796875,\n",
       " 0.7950000166893005,\n",
       " 0.800000011920929,\n",
       " 0.7887499928474426,\n",
       " 0.7993749976158142,\n",
       " 0.7887499928474426,\n",
       " 0.7925000190734863,\n",
       " 0.7981250286102295,\n",
       " 0.7900000214576721,\n",
       " 0.7950000166893005,\n",
       " 0.7931249737739563,\n",
       " 0.8018749952316284,\n",
       " 0.7931249737739563,\n",
       " 0.7918750047683716,\n",
       " 0.800000011920929,\n",
       " 0.8006250262260437,\n",
       " 0.7918750047683716,\n",
       " 0.7931249737739563,\n",
       " 0.7950000166893005,\n",
       " 0.7825000286102295,\n",
       " 0.7975000143051147,\n",
       " 0.7906249761581421,\n",
       " 0.7950000166893005,\n",
       " 0.7900000214576721,\n",
       " 0.7987499833106995,\n",
       " 0.7912499904632568,\n",
       " 0.7956249713897705,\n",
       " 0.7912499904632568,\n",
       " 0.7950000166893005,\n",
       " 0.7943750023841858,\n",
       " 0.7931249737739563,\n",
       " 0.800000011920929,\n",
       " 0.7887499928474426,\n",
       " 0.793749988079071,\n",
       " 0.7975000143051147,\n",
       " 0.7850000262260437,\n",
       " 0.7893750071525574,\n",
       " 0.7887499928474426,\n",
       " 0.7906249761581421,\n",
       " 0.7950000166893005,\n",
       " 0.7868750095367432,\n",
       " 0.7900000214576721,\n",
       " 0.7912499904632568,\n",
       " 0.7943750023841858,\n",
       " 0.7925000190734863,\n",
       " 0.7931249737739563,\n",
       " 0.7918750047683716,\n",
       " 0.7981250286102295,\n",
       " 0.7825000286102295,\n",
       " 0.7918750047683716,\n",
       " 0.784375011920929,\n",
       " 0.8006250262260437,\n",
       " 0.800000011920929,\n",
       " 0.796875,\n",
       " 0.7962499856948853,\n",
       " 0.7881249785423279,\n",
       " 0.793749988079071,\n",
       " 0.7962499856948853]"
      ]
     },
     "execution_count": 23,
     "metadata": {},
     "output_type": "execute_result"
    }
   ],
   "source": [
    "history.history[\"accuracy\"]"
   ]
  },
  {
   "cell_type": "code",
   "execution_count": 24,
   "id": "ee7ebdf6",
   "metadata": {},
   "outputs": [],
   "source": [
    "import matplotlib.pyplot as plt\n",
    "%matplotlib inline"
   ]
  },
  {
   "cell_type": "code",
   "execution_count": 25,
   "id": "1b285dd7",
   "metadata": {
    "collapsed": true
   },
   "outputs": [
    {
     "data": {
      "image/png": "[encoded data removed]",
      "text/plain": [
       "<Figure size 432x288 with 1 Axes>"
      ]
     },
     "metadata": {
      "needs_background": "light"
     },
     "output_type": "display_data"
    }
   ],
   "source": [
    "fig1=plt.figure(1)\n",
    "plt.plot(history.history[\"accuracy\"])\n",
    "plt.plot(history.history[\"val_accuracy\"])\n",
    "plt.title(\"Model Accuracy\")\n",
    "plt.xlabel(\"Accuracy\")\n",
    "plt.ylabel(\"Epoch\")\n",
    "plt.legend([\"training\",\"testing\"],loc=\"upper left\");"
   ]
  },
  {
   "cell_type": "code",
   "execution_count": 26,
   "id": "b87b9fbc",
   "metadata": {
    "collapsed": true
   },
   "outputs": [
    {
     "data": {
      "text/plain": [
       "<function matplotlib.pyplot.show(close=None, block=None)>"
      ]
     },
     "execution_count": 26,
     "metadata": {},
     "output_type": "execute_result"
    },
    {
     "data": {
      "image/png": "[encoded data removed]",
      "text/plain": [
       "<Figure size 432x288 with 1 Axes>"
      ]
     },
     "metadata": {
      "needs_background": "light"
     },
     "output_type": "display_data"
    }
   ],
   "source": [
    "fig1=plt.figure(2)\n",
    "plt.plot(history.history[\"loss\"])\n",
    "plt.plot(history.history[\"val_loss\"])\n",
    "plt.title(\"Model Loss\")\n",
    "plt.xlabel(\"Loss\")\n",
    "plt.ylabel(\"Epoch\")\n",
    "plt.legend([\"training\",\"testing\"],loc=\"upper left\");\n",
    "plt.show"
   ]
  },
  {
   "cell_type": "markdown",
   "id": "e8540e6c",
   "metadata": {},
   "source": [
    "### NORMALIZING"
   ]
  },
  {
   "cell_type": "code",
   "execution_count": 30,
   "id": "363c38f3",
   "metadata": {},
   "outputs": [],
   "source": [
    "from sklearn.preprocessing import normalize, scale"
   ]
  },
  {
   "cell_type": "code",
   "execution_count": 31,
   "id": "0b11e300",
   "metadata": {},
   "outputs": [],
   "source": [
    "df_scaled=scale(df)"
   ]
  },
  {
   "cell_type": "code",
   "execution_count": 32,
   "id": "b1588a7c",
   "metadata": {
    "collapsed": true
   },
   "outputs": [
    {
     "data": {
      "text/plain": [
       "array([[-0.5153943 ,  0.52455322, -0.37248123, ..., -1.06324616,\n",
       "         1.18042417,  1.38707484],\n",
       "       [-1.12049474, -1.1597562 ,  0.67008046, ..., -0.7355513 ,\n",
       "        -0.85632626, -0.72094163],\n",
       "       [-1.12049474,  0.74288962, -3.60442246, ...,  0.49175869,\n",
       "        -0.17740945,  1.38707484],\n",
       "       ...,\n",
       "       [ 0.69480658, -1.12856529,  0.46156812, ..., -0.27492362,\n",
       "         0.75610116, -0.72094163],\n",
       "       [-1.12049474,  0.24383498,  2.12966682, ..., -0.46968566,\n",
       "        -0.60173245,  1.38707484],\n",
       "       [-0.5153943 , -1.25332895,  0.14879962, ...,  0.23516743,\n",
       "        -0.68659705, -0.72094163]])"
      ]
     },
     "execution_count": 32,
     "metadata": {},
     "output_type": "execute_result"
    }
   ],
   "source": [
    "df_scaled"
   ]
  },
  {
   "cell_type": "code",
   "execution_count": 33,
   "id": "21ad6d8e",
   "metadata": {
    "collapsed": true
   },
   "outputs": [
    {
     "data": {
      "text/plain": [
       "6.025473753779661"
      ]
     },
     "execution_count": 33,
     "metadata": {},
     "output_type": "execute_result"
    }
   ],
   "source": [
    "df_scaled.max()"
   ]
  },
  {
   "cell_type": "code",
   "execution_count": 34,
   "id": "335bbc92",
   "metadata": {
    "collapsed": true
   },
   "outputs": [
    {
     "data": {
      "text/plain": [
       "-3.951097375247207"
      ]
     },
     "execution_count": 34,
     "metadata": {},
     "output_type": "execute_result"
    }
   ],
   "source": [
    "df_scaled.min()"
   ]
  },
  {
   "cell_type": "code",
   "execution_count": 35,
   "id": "982cf984",
   "metadata": {
    "collapsed": true
   },
   "outputs": [
    {
     "data": {
      "text/plain": [
       "array([ 1., -1.])"
      ]
     },
     "execution_count": 35,
     "metadata": {},
     "output_type": "execute_result"
    }
   ],
   "source": [
    "scale([110,20])"
   ]
  },
  {
   "cell_type": "code",
   "execution_count": 36,
   "id": "4e043451",
   "metadata": {},
   "outputs": [],
   "source": [
    "df_normal=normalize(df)"
   ]
  },
  {
   "cell_type": "code",
   "execution_count": 37,
   "id": "50d92635",
   "metadata": {
    "collapsed": true
   },
   "outputs": [
    {
     "data": {
      "text/plain": [
       "array([[1.20701190e-02, 8.32838210e-01, 3.74173689e-01, ...,\n",
       "        7.66452556e-04, 2.83647796e-01, 6.03505949e-03],\n",
       "       [0.00000000e+00, 4.66996172e-01, 4.55877215e-01, ...,\n",
       "        1.29535843e-03, 1.27867999e-01, 0.00000000e+00],\n",
       "       [0.00000000e+00, 9.37122843e-01, 0.00000000e+00, ...,\n",
       "        4.07163718e-03, 2.00350401e-01, 6.46291616e-03],\n",
       "       ...,\n",
       "       [4.73122182e-02, 6.70256425e-01, 6.15058837e-01, ...,\n",
       "        3.01221123e-03, 3.31185527e-01, 0.00000000e+00],\n",
       "       [0.00000000e+00, 5.60676108e-01, 4.78095906e-01, ...,\n",
       "        1.38647813e-03, 1.13004487e-01, 4.34632642e-03],\n",
       "       [1.44032910e-02, 5.83333287e-01, 5.18518477e-01, ...,\n",
       "        3.93930010e-03, 1.80041138e-01, 0.00000000e+00]])"
      ]
     },
     "execution_count": 37,
     "metadata": {},
     "output_type": "execute_result"
    }
   ],
   "source": [
    "df_normal"
   ]
  },
  {
   "cell_type": "code",
   "execution_count": 38,
   "id": "e13e832a",
   "metadata": {
    "collapsed": true
   },
   "outputs": [
    {
     "data": {
      "text/plain": [
       "0.9736822155037493"
      ]
     },
     "execution_count": 38,
     "metadata": {},
     "output_type": "execute_result"
    }
   ],
   "source": [
    "df_normal.max()"
   ]
  },
  {
   "cell_type": "code",
   "execution_count": 39,
   "id": "4cddc46b",
   "metadata": {
    "collapsed": true
   },
   "outputs": [
    {
     "data": {
      "text/plain": [
       "0.0"
      ]
     },
     "execution_count": 39,
     "metadata": {},
     "output_type": "execute_result"
    }
   ],
   "source": [
    "df_normal.min()"
   ]
  },
  {
   "cell_type": "code",
   "execution_count": 40,
   "id": "4734d8b8",
   "metadata": {},
   "outputs": [],
   "source": [
    "from sklearn.preprocessing import MinMaxScaler"
   ]
  },
  {
   "cell_type": "code",
   "execution_count": 41,
   "id": "03a344e7",
   "metadata": {},
   "outputs": [],
   "source": [
    "scaler=MinMaxScaler()"
   ]
  },
  {
   "cell_type": "code",
   "execution_count": 42,
   "id": "fbce7b28",
   "metadata": {},
   "outputs": [],
   "source": [
    "scaled=scaler.fit_transform(df)"
   ]
  },
  {
   "cell_type": "code",
   "execution_count": 43,
   "id": "8651e7c6",
   "metadata": {
    "collapsed": true
   },
   "outputs": [
    {
     "data": {
      "text/plain": [
       "array([[0.11764706, 0.69346734, 0.50819672, ..., 0.02092229, 0.43333333,\n",
       "        1.        ],\n",
       "       [0.        , 0.42211055, 0.67213115, ..., 0.06618275, 0.03333333,\n",
       "        0.        ],\n",
       "       [0.        , 0.72864322, 0.        , ..., 0.23569599, 0.16666667,\n",
       "        1.        ],\n",
       "       ...,\n",
       "       [0.35294118, 0.42713568, 0.63934426, ..., 0.12980359, 0.35      ,\n",
       "        0.        ],\n",
       "       [0.        , 0.64824121, 0.90163934, ..., 0.1029035 , 0.08333333,\n",
       "        1.        ],\n",
       "       [0.11764706, 0.40703518, 0.59016393, ..., 0.20025619, 0.06666667,\n",
       "        0.        ]])"
      ]
     },
     "execution_count": 43,
     "metadata": {},
     "output_type": "execute_result"
    }
   ],
   "source": [
    "scaled"
   ]
  }
 ],
 "metadata": {
  "kernelspec": {
   "display_name": "Python 3 (ipykernel)",
   "language": "python",
   "name": "python3"
  },
  "language_info": {
   "codemirror_mode": {
    "name": "ipython",
    "version": 3
   },
   "file_extension": ".py",
   "mimetype": "text/x-python",
   "name": "python",
   "nbconvert_exporter": "python",
   "pygments_lexer": "ipython3",
   "version": "3.9.12"
  }
 },
 "nbformat": 4,
 "nbformat_minor": 5
}
